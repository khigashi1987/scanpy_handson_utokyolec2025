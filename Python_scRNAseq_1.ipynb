{
 "cells": [
  {
   "cell_type": "markdown",
   "id": "23623126-eecf-48be-99d8-c7955186b7b7",
   "metadata": {},
   "source": [
    "# PythonによるscRNA-seq解析 その1"
   ]
  },
  {
   "cell_type": "markdown",
   "id": "ceb4bd43-8802-4db1-90b2-52bf11b4fba2",
   "metadata": {},
   "source": [
    "## 使用データ"
   ]
  },
  {
   "cell_type": "markdown",
   "id": "9cd3a380-dfab-429e-b114-2bf1dddd3dd4",
   "metadata": {},
   "source": [
    "マウス15.5日胚の眼球から取り出した網膜の細胞。10X Chromium 3′ v2で解析。2つのReplicatesでそれぞれ約2,600細胞。\n",
    "\n",
    "Mouse developing retina from Lo Giudice et al. [https://doi.org/10.1242/dev.178103](https://doi.org/10.1242/dev.178103)\n",
    "\n",
    "Lo Giudice, Q., Leleu, M., La Manno, G. & Fabre, P. J. Single-cell transcriptional logic of cell-fate specification and axon guidance in early-born retinal neurons. Development 146, dev178103 (2019)."
   ]
  },
  {
   "cell_type": "markdown",
   "id": "0dbb3842-8f67-45ba-81c4-9194b1f5caa2",
   "metadata": {},
   "source": [
    "## Pythonに関係ない部分の解析"
   ]
  },
  {
   "cell_type": "markdown",
   "id": "a8b7f335-b2a8-4795-85e0-694909c2eb1f",
   "metadata": {},
   "source": [
    "### データのダウンロード"
   ]
  },
  {
   "cell_type": "markdown",
   "id": "0d98e49f-7b18-4178-b3b1-b7eea3f4079e",
   "metadata": {},
   "source": [
    "好きな方法で公共データベースからダウンロードする。レプリケイトがふたつあって、それぞれ以下のSRR IDに対応。\n",
    "```bash\n",
    "fastq-dump SRR8181428 --split-files --gzip\n",
    "fastq-dump SRR8181429 --split-files --gzip\n",
    "```"
   ]
  },
  {
   "cell_type": "markdown",
   "id": "299cdc8f-4182-4637-a327-8a7099ac2fe5",
   "metadata": {},
   "source": [
    "SRR8181428       ([Rub browser](https://trace.ncbi.nlm.nih.gov/Traces/?view=run_browser&acc=SRR8181428&display=metadata))([メタデータ](https://ncbi.nlm.nih.gov/sra/SRR8181428) )  \n",
    "```bash\n",
    "SRR8181428_1.fastq.gz ：Read 1  \n",
    "SRR8181428_2.fastq.gz ：Read 2  \n",
    "SRR8181428_3.fastq.gz ：Index  \n",
    "```\n",
    "SRR8181429       ([Rub browser](https://trace.ncbi.nlm.nih.gov/Traces/?view=run_browser&acc=SRR8181429&display=metadata))([メタデータ](https://ncbi.nlm.nih.gov/sra/SRR8181429) )  \n",
    "```bash\n",
    "SRR8181428_1.fastq.gz ：Read 1  \n",
    "SRR8181428_2.fastq.gz ：Read 2  \n",
    "SRR8181428_3.fastq.gz ：Index \n",
    "```\n",
    "Cell Ranger は、以下の命名ルールに沿った fastq file 名が必要\n",
    "```bash\n",
    "'[サンプル名]_S[サンプル番号]_L00[レーン番号]_[リードタイプ]_001.fastq.gz'\n",
    "```\n",
    "今回は、以下のようにファイル名を変更した。\n",
    "```bash\n",
    "Read 1: SRR8181428_S1_L001_R1_001.fastq.gz\n",
    "Read 2: SRR8181428_S1_L001_R2_001.fastq.gz\n",
    "Index : SRR8181428_S1_L001_I1_001.fastq.gz\n",
    "```\n",
    "```bash\n",
    "Read 1: SRR8181429_S1_L001_R1_001.fastq.gz\n",
    "Read 2: SRR8181429_S1_L001_R1_001.fastq.gz\n",
    "Index : SRR8181429_S1_L001_I1_001.fastq.gz\n",
    "```"
   ]
  },
  {
   "cell_type": "markdown",
   "id": "46adea4a-a57d-412f-aa4c-24123b1420e5",
   "metadata": {},
   "source": [
    "### Cell Rangerによる解析"
   ]
  },
  {
   "cell_type": "markdown",
   "id": "9b95f0fd-edfe-4027-ad01-ef6ff954e3ce",
   "metadata": {
    "tags": []
   },
   "source": [
    "Cell Ranger v.9.0.0でマウスゲノム（mm10）へのマッピング、遺伝子ごとのカウントを実行。\n",
    "\n",
    "レプリケイトは（論文でそう名付けられてたので）E2, F2という名前のバッチに設定。\n",
    "\n",
    "なお、最新版のcellrangerでは \"--create-bam\" オプションが必須になっている点に注意。マッピング結果のBAM形式ファイルを利用する予定がなければ、計算量とディスク節約のためにfalseに設定すれば良いが、ツールによって（後半で扱うvelocytoなど）BAMファイルが必須の場合がある。\n",
    "\n",
    "```bash\n",
    "cellranger count --id=RetinalBatchE2 \\\n",
    "   --fastqs=/path/to/SRR8181428\\\n",
    "   --sample=SRR8181428 \\\n",
    "   --create-bam=true \\\n",
    "   --transcriptome=/path/to/Cell_Ranger_References/refdata-gex-mm10-2020-A\n",
    "\n",
    "cellranger count --id=RetinalBatchF2 \\\n",
    "   --fastqs=/path/to/SRR8181429\\\n",
    "   --sample=SRR8181429 \\\n",
    "   --create-bam=true \\\n",
    "   --transcriptome=/path/to/Cell_Ranger_References/refdata-gex-mm10-2020-A\n",
    "```"
   ]
  },
  {
   "cell_type": "markdown",
   "id": "1e426d7c-991c-404f-b0fd-474d759a5e9d",
   "metadata": {},
   "source": [
    "講習では、このCell Ranger解析の結果ディレクトリ（の一部、講習で使う部分だけを抜き出したもの）を配布している。\n",
    "\n",
    "こんな感じの構成になっていて、Cell Rangerのアウトプットが見えるはず。"
   ]
  },
  {
   "cell_type": "markdown",
   "id": "92a7d3cc-721a-4812-8267-0e31a0fb3939",
   "metadata": {},
   "source": [
    "./data の中身  \n",
    "\n",
    "     data -- RetinalBatchE2 - outs - filtered_feature_bc_matrix - barcodes.tsv.gz  # cell index  \n",
    "                                                                - features.tsv.gz  # 遺伝子 Id  \n",
    "                                                                 - matrix.mtx.gz    # count データ  \n",
    "\n",
    "          -- RetinalBatchF2 - outs - filtered_feature_bc_matrix - barcodes.tsv.gz  # cell index\n",
    "                                                                - features.tsv.gz  # 遺伝子 Id\n",
    "                                                                - matrix.mtx.gz    # count データ\n",
    "\n",
    "                                                          "
   ]
  },
  {
   "cell_type": "markdown",
   "id": "e21e84d3-1799-4901-958e-736f48443005",
   "metadata": {},
   "source": [
    "## ライブラリのimport"
   ]
  },
  {
   "cell_type": "markdown",
   "id": "12b35ad5-0dbb-4bbb-a0e3-bea1b4bedad7",
   "metadata": {},
   "source": [
    "定番のライブラリのimportに加えて、scanpyをscの別名でimportする。\n",
    "\n",
    "Figのちょっとした設定。各ライブラリのバージョンは以下の通り。(インストールした際の python のバージョンなどで ライブラリのバージョンが異なっている可能性はあるかもしれません。)"
   ]
  },
  {
   "cell_type": "code",
   "execution_count": null,
   "id": "e4719c08-fdbb-4601-a7c6-c2579fffb264",
   "metadata": {},
   "outputs": [],
   "source": [
    "import warnings\n",
    "warnings.filterwarnings('ignore')\n",
    "\n",
    "import os\n",
    "import numpy as np\n",
    "import pandas as pd\n",
    "import scanpy as sc\n",
    "import matplotlib.pyplot as plt\n",
    "import seaborn as sns\n",
    "\n",
    "sc.logging.print_header()\n",
    "sc.settings.set_figure_params(dpi=100, facecolor='white')"
   ]
  },
  {
   "cell_type": "markdown",
   "id": "be2b88ce-1b06-4d25-a02f-5f27547ff235",
   "metadata": {},
   "source": [
    "## データの読み込み"
   ]
  },
  {
   "cell_type": "markdown",
   "id": "873cb1e5-dddb-463f-808e-fc90a331baf1",
   "metadata": {},
   "source": [
    "Scanpyの特徴は、データフレームを拡張した ***anndata*** と呼ばれる オブジェクトを使う点にある。anndataを使うと、ひとつのオブジェクトに遺伝子発現量のデータ、サンプルや細胞のアノテーション、遺伝子の情報などをまとめて格納できる。 anndataを使うことで、実験の情報が詰まったひとつのオブジェクトに対して処理を次々に実行し、さらに処理結果をそこに蓄積していくことができる。"
   ]
  },
  {
   "cell_type": "markdown",
   "id": "1f24fef8-e74d-4838-876a-9d82ebcd4b9f",
   "metadata": {},
   "source": [
    "Scanpyでは、10x Genomicsのデータは、結果のディレクトリを指定することでそのままロードが可能な関数が用意されている。\n",
    "\n",
    "ディレクトリには、3つのファイルが書き出されている。  \n",
    "\n",
    "**barcodes.tsv:** 個別の細胞を識別するバーコードが記述されたテキストファイル。各行ごとにひとつのバーコードが記述されている。  \n",
    "**genes.tsv:** 計測された遺伝子が記述されたタブ区切りテキストファイル。1列目に遺伝子のENSEMBL Gene ID、2列目の遺伝子のシンボルが記述されている。  \n",
    "**matrix.mtx:** 各細胞（バーコード）について各遺伝子の発現がいくつ観測されたかのカウント情報をまとめたファイル。このファイルはMatrix Market Exchange Formatsという形式で記述されており、疎行列（含まれる値の多くがゼロであるような行列）を比較的コンパクトに記述するための形式となっている。  \n",
    "\n",
    "\n",
    "Scanpyの10xデータ用読み込み関数を使うと、これらを同時に読み込んで、適切に構造化されたオブジェクトができあがる。"
   ]
  },
  {
   "cell_type": "code",
   "execution_count": null,
   "id": "55027c23-9026-492b-a1ee-d5977801e2f4",
   "metadata": {},
   "outputs": [],
   "source": [
    "adata_E2 = sc.read_10x_mtx(path='./data/RetinalBatchE2/outs/filtered_feature_bc_matrix/')\n",
    "adata_F2 = sc.read_10x_mtx(path='./data/RetinalBatchF2/outs/filtered_feature_bc_matrix/')"
   ]
  },
  {
   "cell_type": "code",
   "execution_count": null,
   "id": "3bc7da97-25a9-40e2-b2ca-7b43479287f6",
   "metadata": {},
   "outputs": [],
   "source": [
    "adata_E2"
   ]
  },
  {
   "cell_type": "markdown",
   "id": "7d6b52fe-1b13-4178-bd96-6c689f773eaa",
   "metadata": {},
   "source": [
    "3392 細胞 × 32285 遺伝子"
   ]
  },
  {
   "cell_type": "code",
   "execution_count": null,
   "id": "fef098c6-b410-41c1-a6d8-5ab466e77d3d",
   "metadata": {},
   "outputs": [],
   "source": [
    "adata_F2"
   ]
  },
  {
   "cell_type": "markdown",
   "id": "4100ab10-881a-4678-81a5-7e1d1605a7db",
   "metadata": {},
   "source": [
    "3611 細胞 × 32285 遺伝子"
   ]
  },
  {
   "cell_type": "markdown",
   "id": "21d1c845-a57b-4f74-8be9-dc12aa29d5bf",
   "metadata": {},
   "source": [
    "2つのバッチをひとつのanndataオブジェクトに統合する。バッチのラベルもここで設定。"
   ]
  },
  {
   "cell_type": "code",
   "execution_count": null,
   "id": "3b770a9a-5154-42a2-a31c-7a705b99eac5",
   "metadata": {},
   "outputs": [],
   "source": [
    "adata = adata_E2.concatenate(adata_F2, batch_categories=['E2', 'F2'])"
   ]
  },
  {
   "cell_type": "markdown",
   "id": "e5e60679-8d91-4f53-b461-66b75c00ca00",
   "metadata": {},
   "source": [
    "観測値（細胞）に関するデータは、**obs** でアクセスする。 observationsの略。このデータフレームに細胞に関するデータを追加していくことができる。"
   ]
  },
  {
   "cell_type": "code",
   "execution_count": null,
   "id": "1d45b4d5-4c1c-480d-b28b-493105726feb",
   "metadata": {},
   "outputs": [],
   "source": [
    "adata.obs"
   ]
  },
  {
   "cell_type": "markdown",
   "id": "43eb1a74-115f-4d2d-9d99-82967aa87c06",
   "metadata": {},
   "source": [
    "変数（遺伝子）に関するデータは、**var** でアクセスする。variable の略。現在は、遺伝子のシンボル（名前）と、Ensembl Gene IDなどが登録されている。"
   ]
  },
  {
   "cell_type": "code",
   "execution_count": null,
   "id": "11de9bf8-8632-4508-8a2e-9c4ba6e81a51",
   "metadata": {},
   "outputs": [],
   "source": [
    "adata.var"
   ]
  },
  {
   "cell_type": "markdown",
   "id": "26b40e09-3773-4509-bdab-0ae0659ec6db",
   "metadata": {},
   "source": [
    "カウントテーブルには、以下のように ***X*** でアクセスできる。疎行列として格納されている。"
   ]
  },
  {
   "cell_type": "code",
   "execution_count": null,
   "id": "9b6ad6be-a11b-4ab9-8066-4c7223929823",
   "metadata": {},
   "outputs": [],
   "source": [
    "adata.X"
   ]
  },
  {
   "cell_type": "code",
   "execution_count": null,
   "id": "1b9799b0-19d5-4032-a9f8-d200425df15c",
   "metadata": {},
   "outputs": [],
   "source": [
    "adata"
   ]
  },
  {
   "cell_type": "markdown",
   "id": "aa494e7b-a692-4453-863a-a686b48b6d58",
   "metadata": {},
   "source": [
    "E2: 3611 細胞 × 32285 遺伝子  \n",
    "F2: 3392 細胞 × 32285 遺伝子 を足したデータ 7003 細胞 × 32285 遺伝子 が格納されている。"
   ]
  },
  {
   "cell_type": "markdown",
   "id": "6f7cd50e-5e9c-4697-bff1-0a2f16747b97",
   "metadata": {},
   "source": [
    "## 前処理"
   ]
  },
  {
   "cell_type": "markdown",
   "id": "b854f280-0112-4251-b4ef-80a49d8e7931",
   "metadata": {},
   "source": [
    "観測された遺伝子が極端に少ない細胞、割り当てられた細胞が極端に少ない遺伝子をフィルタリング。"
   ]
  },
  {
   "cell_type": "code",
   "execution_count": null,
   "id": "df1ac158-7cf9-4bb4-90a9-a04d23acd6ea",
   "metadata": {},
   "outputs": [],
   "source": [
    "# 観測された遺伝子が極端に少ない細胞\n",
    "sc.pp.filter_cells(adata, min_genes=200)\n",
    "# 割り当てられた細胞が極端に少ない遺伝子\n",
    "sc.pp.filter_genes(adata, min_cells=20)"
   ]
  },
  {
   "cell_type": "code",
   "execution_count": null,
   "id": "e3377884-0c49-4768-9727-5520552141de",
   "metadata": {},
   "outputs": [],
   "source": [
    "adata"
   ]
  },
  {
   "cell_type": "markdown",
   "id": "af120dd5-d098-40b3-aba9-b78eae8c2dc3",
   "metadata": {},
   "source": [
    "7003 細胞 × 32285 遺伝子  -> 7001 細胞 × 15001 遺伝子"
   ]
  },
  {
   "cell_type": "markdown",
   "id": "4ba27f99-e194-4590-8512-f9fcad3d5984",
   "metadata": {},
   "source": [
    "ミトコンドリア遺伝子の発現割合でフィルタリングする予定なので、遺伝子側のメタデータにミトコンドリア遺伝子か否かの情報を付与。"
   ]
  },
  {
   "cell_type": "code",
   "execution_count": null,
   "id": "56dad3dd-300a-4a7d-8659-d72467321e1d",
   "metadata": {},
   "outputs": [],
   "source": [
    "adata.var['mt'] = adata.var_names.str.startswith('mt-')"
   ]
  },
  {
   "cell_type": "code",
   "execution_count": null,
   "id": "09e73dbd-4de2-4bfa-bc42-97ca72f15b44",
   "metadata": {},
   "outputs": [],
   "source": [
    "adata.var['mt']"
   ]
  },
  {
   "cell_type": "markdown",
   "id": "9313cdb8-f8d0-4dfa-816e-2b7dcd16bd7e",
   "metadata": {},
   "source": [
    "`sc.pp.calculate_qc_metrics` は、クオリティコントロールに関連したいくつかの指標を一挙に計算してくれる便利な関数。\n",
    "\n",
    "`qc_vars`に遺伝子側のメタデータラベルを設定すると、それについてもカウントとパーセンテージを勝手に計算してくれる。"
   ]
  },
  {
   "cell_type": "code",
   "execution_count": null,
   "id": "5dcab6d5-1f1d-461e-8f52-a1c514ef7bef",
   "metadata": {},
   "outputs": [],
   "source": [
    "# inplace オプション: 計算した結果を .obs と .var に書き込むか？\n",
    "# percent_top オプション: Which proportions of top genes to cover. If empty or None don’t calculate. Values are considered 1-indexed, percent_top=[50] finds cumulative proportion to the 50th most expressed gene.\n",
    "# log1p オプション: Set to False to skip computing log1p transformed annotations.\n",
    "sc.pp.calculate_qc_metrics(adata, qc_vars=['mt'], percent_top=False, log1p=False, inplace=True) "
   ]
  },
  {
   "cell_type": "markdown",
   "id": "47dee777-4fc0-43d2-875c-1d613a642f61",
   "metadata": {},
   "source": [
    "それぞれの分布をプロット。"
   ]
  },
  {
   "cell_type": "code",
   "execution_count": null,
   "id": "79a27daa-3e87-4ce0-864f-6cdc10b94da5",
   "metadata": {},
   "outputs": [],
   "source": [
    "sc.pl.violin(adata, [\"n_genes_by_counts\", \"total_counts\", \"pct_counts_mt\"], jitter=0.4, multi_panel=True)"
   ]
  },
  {
   "cell_type": "markdown",
   "id": "791371ad-46f5-47d6-8d1c-4fb620201090",
   "metadata": {},
   "source": [
    "#n_genes_by_counts: 各細胞ごとにカウントがあった遺伝子数   #total_counts: 各細胞ごとの合計カウント数   #pct_mt_counts: ミトコンドリアのカウントのパーセント  "
   ]
  },
  {
   "cell_type": "code",
   "execution_count": null,
   "id": "b795c04d-00fa-4002-9f8f-52858f4e48ad",
   "metadata": {},
   "outputs": [],
   "source": [
    "sc.pl.scatter(adata, 'total_counts', 'n_genes_by_counts', color='pct_counts_mt', size=40)"
   ]
  },
  {
   "cell_type": "code",
   "execution_count": null,
   "id": "1d6ed4d9",
   "metadata": {},
   "outputs": [],
   "source": [
    "fig = plt.figure()\n",
    "sns.displot(adata.obs['pct_counts_mt'], kde=False)\n",
    "plt.show()"
   ]
  },
  {
   "cell_type": "code",
   "execution_count": null,
   "id": "705bcb84-d183-41c6-8171-a97ab9ad7c8f",
   "metadata": {},
   "outputs": [],
   "source": [
    "fig = plt.figure()\n",
    "sns.displot(adata.obs['pct_counts_mt'][adata.obs['pct_counts_mt'] < 10], kde=False)\n",
    "plt.show()"
   ]
  },
  {
   "cell_type": "markdown",
   "id": "d5dccce0-c032-4641-adb9-f9d5b26fdb0f",
   "metadata": {},
   "source": [
    "分布を見て方針を決めて、フィルタリングを実行。"
   ]
  },
  {
   "cell_type": "code",
   "execution_count": null,
   "id": "8cb69e83-e036-4708-8ded-6b6c75eeb771",
   "metadata": {},
   "outputs": [],
   "source": [
    "print('Total number of cells: {:d}'.format(adata.n_obs))\n",
    "\n",
    "sc.pp.filter_cells(adata, min_counts = 2000)\n",
    "print('Number of cells after min count filter: {:d}'.format(adata.n_obs))\n",
    "\n",
    "sc.pp.filter_cells(adata, max_counts = 13000)\n",
    "print('Number of cells after max count filter: {:d}'.format(adata.n_obs))\n",
    "\n",
    "sc.pp.filter_cells(adata, min_genes = 1000)\n",
    "print('Number of cells after gene filter: {:d}'.format(adata.n_obs))\n",
    "\n",
    "adata = adata[adata.obs['pct_counts_mt'] < 6]\n",
    "print('Number of cells after MT filter: {:d}'.format(adata.n_obs))"
   ]
  },
  {
   "cell_type": "code",
   "execution_count": null,
   "id": "4171858e-cabe-47fe-9a4c-fb4e9918fc57",
   "metadata": {},
   "outputs": [],
   "source": [
    "adata"
   ]
  },
  {
   "cell_type": "markdown",
   "id": "3aadecb2-ff6b-4dc6-906c-d7252b38228c",
   "metadata": {},
   "source": [
    "7003 細胞 × 32285 遺伝子 -> 7001 細胞 × 15001 遺伝子 -> 4773 細胞 × 15001 遺伝子"
   ]
  },
  {
   "cell_type": "markdown",
   "id": "313fac24-33c1-4a4f-b9aa-789cb3d7110d",
   "metadata": {},
   "source": [
    "正規化や対数変換などの前に、この段階のカウントマトリックスを別のレイヤーに退避させておく。あとで確率モデル推定のときに必要になる。レイヤーに保管したデータは基本的に以降の操作の影響を受けないが、細胞や遺伝子のslicingは適用されるので注意。（常にマトリックスのshapeは一致する）"
   ]
  },
  {
   "cell_type": "code",
   "execution_count": null,
   "id": "86251eee-b1f8-411d-a5c7-cd8d669227d0",
   "metadata": {},
   "outputs": [],
   "source": [
    "adata.layers['counts'] = adata.X.copy()"
   ]
  },
  {
   "cell_type": "markdown",
   "id": "7ac28342-f644-4129-9424-63219a6d6b3b",
   "metadata": {},
   "source": [
    "## 正規化"
   ]
  },
  {
   "cell_type": "markdown",
   "id": "bead2208-c5f5-40c1-9b07-63ab6315c0d9",
   "metadata": {},
   "source": [
    "ライブラリサイズによる正規化、対数変換などの前処理は、scanpy.pp以下にいくつか便利な関数がある。\n",
    "\n",
    "ここでは、細胞ごとのカウントの和が10,000になるように正規化してから、対数変換。"
   ]
  },
  {
   "cell_type": "code",
   "execution_count": null,
   "id": "30b97dee-26a5-498a-a2d5-61370f480f6c",
   "metadata": {},
   "outputs": [],
   "source": [
    "sc.pp.normalize_per_cell(adata, counts_per_cell_after=1e4)\n",
    "sc.pp.log1p(adata)"
   ]
  },
  {
   "cell_type": "markdown",
   "id": "6ac8ea8c-150f-4e8d-b04f-e5bcc77516ba",
   "metadata": {},
   "source": [
    "この段階のデータ（いろいろとややこしい変換をしていない「ピュア」なデータ）も、あとでプロットや結果解釈のときに使いたいので退避させておく。rawは特別なレイヤーで、数値だけでなくobsやvarのメタデータも含めてフリーズしてくれる。また遺伝子側のsliceの影響を受けない（細胞側のsliceは適用される）"
   ]
  },
  {
   "cell_type": "code",
   "execution_count": null,
   "id": "64be7cc9-77fb-491f-9f7d-d6e2c95b5bc8",
   "metadata": {},
   "outputs": [],
   "source": [
    "adata.raw = adata"
   ]
  },
  {
   "cell_type": "markdown",
   "id": "74dc3fee-f909-4b03-a14a-c9425a58654b",
   "metadata": {},
   "source": [
    "## 特徴量選択（発現量の変動が大きい遺伝子）"
   ]
  },
  {
   "cell_type": "markdown",
   "id": "36d66362-ed0a-4423-998f-dc25cdb9a2f4",
   "metadata": {},
   "source": [
    "発現量変動の大きい遺伝子のみを抽出して、データのサイズを小さくする。\n",
    "\n",
    "発現量変動の大きい遺伝子とは、細胞間の発現量の分散が指定した値以上に大きい遺伝子を取得すればいいが、遺伝子の平均発現量毎に分散も異なるので、正規化分散をしてから特徴量選択をする。\n",
    "seurat, cell_ranger, seurat_v3 のアルゴリズムが選択できる。 本講習ではデフォルトの seurat を使用する。"
   ]
  },
  {
   "cell_type": "code",
   "execution_count": null,
   "id": "438273c6",
   "metadata": {},
   "outputs": [],
   "source": [
    "sc.pp.highly_variable_genes?"
   ]
  },
  {
   "cell_type": "code",
   "execution_count": null,
   "id": "a5c6ca11-98cb-4137-a981-a63f51856dea",
   "metadata": {},
   "outputs": [],
   "source": [
    "# top 2000genes のみを抽出する\n",
    "sc.pp.highly_variable_genes(adata, n_top_genes=2000, flavor='seurat')\n",
    "print('\\n','Number of highly variable genes: {:d}'.format(np.sum(adata.var['highly_variable'])))"
   ]
  },
  {
   "cell_type": "code",
   "execution_count": null,
   "id": "b52dbfb5-02c7-4875-8580-00db14eb9b6a",
   "metadata": {},
   "outputs": [],
   "source": [
    "sc.pl.highly_variable_genes(adata)"
   ]
  },
  {
   "cell_type": "markdown",
   "id": "c3dd5a85-878b-4088-bbe0-7983025eaa1c",
   "metadata": {},
   "source": [
    "計算結果は自動的に adata.var 、つまり、遺伝子に関するメタデータを格納したオブジェクトに追加される。 highly_variable の項目が True の遺伝子が高発現変動遺伝子。"
   ]
  },
  {
   "cell_type": "code",
   "execution_count": null,
   "id": "12a936ab-32f8-423f-8100-f67ea89147fd",
   "metadata": {},
   "outputs": [],
   "source": [
    "adata.var"
   ]
  },
  {
   "cell_type": "markdown",
   "id": "9d1a58b5-cfea-438d-bcd8-b5e1e2e46215",
   "metadata": {},
   "source": [
    "## 次元削減\n",
    "\n",
    "主成分分析 (PCA) は、データ点全体の分布の大局的 (グローバル) な構造をよりよく表現する。\n",
    "それに対して、t-SNE, UMAP は、どちらかというと局所的 (ローカル) な構造を重視する。高次元空間で近くに配置されている点を低次元空間でも近くに配置していく。その結果、どの細胞とどの細胞が似ているか、似ている細胞集団から構成されるクラスタがいくつあるのかといった生物学的な解釈に結びつけやすいので、scRNA-seq解析でよく使われている。しかしながら、クラスタ間の距離関係、このクラスターは、あっちのクラスターとどのくらい離れている、、とかはわからない。クラスタ間の距離の比較はできない。あくまで隣接している細胞同士の距離関係が最適化するように学習されている。\n",
    "\n",
    " t-SNE のアルゴリズム  \n",
    " 高次元空間と低次元空間の距離関係を一致させて、どうやって比較するか？\n",
    "  1. 低次元側のデータ点の座標をランダムに (あるいは主成分分析やなんらかの高速な手法で暫定的に) 配置する\n",
    "  2. 高次元空間上の「距離」と低次元空間上の「距離」を計測するための関数を設定する\n",
    "  3. 高次元空間上の「距離」と低次元空間上の「距離」を比較して、誤差を表現する (コスト関数) を設定する\n",
    "  4. コスト関数をなんらかの最適化計算手法で最小化する\n",
    "\n",
    " tSNE と比較した UMAP の利点\n",
    "  1. 計算の実行時間が tSNE より早い (が、実装によっては t-SNE も十分速い)\n",
    "  2. 大規模なデータセットでも t-SNE ほどメモリを消費せずにすむ\n",
    "  3. データ全体のグローバルな構造を tSNE よりもよく保存する (と言われている)\n",
    "  4. アルゴリズムが代数的位相幾何学の強固な理論的基盤に支えられている (?)\n",
    "\n",
    "　(独習Pythonバイオ情報解析　第11章 シングルセル解析② 次元削減 より)\n",
    "\n",
    "t-SNE, UMAP ともに、計算効率のために、データの前処理として PCA を行って、特徴量の数を削減したセットを使用する。"
   ]
  },
  {
   "cell_type": "markdown",
   "id": "8744e651-354f-4144-8ded-c2f65b606dc3",
   "metadata": {},
   "source": [
    "## 主成分分析（PCA）"
   ]
  },
  {
   "cell_type": "markdown",
   "id": "99c2c714-a8c3-481d-b75b-35b6cd1d3ae2",
   "metadata": {},
   "source": [
    "PCAはscanpyの前処理関数で簡単に実行できる。とりあえず、50次元まで落としてみる。 use_highly_variableのフラグをオンにすると、遺伝子全体ではなく前項で決定した高発現変動遺伝子のみを使って次元削減をする。"
   ]
  },
  {
   "cell_type": "code",
   "execution_count": null,
   "id": "0e21ac65-aae7-4ef0-8c0b-06d87aed0a1c",
   "metadata": {},
   "outputs": [],
   "source": [
    "sc.pp.pca(adata, n_comps=50, use_highly_variable=True, svd_solver='arpack')"
   ]
  },
  {
   "cell_type": "markdown",
   "id": "c4e47733-a62f-405d-8349-232f38af41b0",
   "metadata": {},
   "source": [
    "PCAで落とした座標は、観察値のメタデータを格納する ***obsm*** に自動的に入る。obsm は Multi-dimensional annotation of observations の略。複数の次元でひとつの何かを表現するような観測値のメタデータがここに格納される。"
   ]
  },
  {
   "cell_type": "code",
   "execution_count": null,
   "id": "d66ddd5d-624c-42d9-ae1d-d3481bd0e3cc",
   "metadata": {},
   "outputs": [],
   "source": [
    "print(adata.obsm['X_pca'].shape)"
   ]
  },
  {
   "cell_type": "markdown",
   "id": "618ed85f-42d6-48a7-8126-85ed2dc0b097",
   "metadata": {},
   "source": [
    "7003 細胞 × 32285 遺伝子 -> 7001 細胞 × 15001 遺伝子 -> 4773 細胞 × 15001 遺伝子 -> 4773 細胞 × 50 次元"
   ]
  },
  {
   "cell_type": "markdown",
   "id": "92b0b4ca-76cc-4f2f-991d-0154ff002179",
   "metadata": {},
   "source": [
    "プロットしてみる。Scanpyでは基本的に「前処理」（Preprocessing）に関わる関数がscanpy.ppに、「プロット」（Plot）に関わる関数がscanpy.plに入っている。\n",
    "\n",
    "いまのところ特に色つけるようなデータも無いので、適当に細胞ごとのカウントで色分けをした。遺伝子名をcolorに指定するとその遺伝子の発現量によるプロットも可能。"
   ]
  },
  {
   "cell_type": "code",
   "execution_count": null,
   "id": "9df52d38-a91d-4edf-ba67-ba2c2e1dd477",
   "metadata": {},
   "outputs": [],
   "source": [
    "sc.pl.pca(adata, color='total_counts')"
   ]
  },
  {
   "cell_type": "markdown",
   "id": "12468df4-eb77-452b-b919-2eeda93b924a",
   "metadata": {},
   "source": [
    "遺伝子 Xkr4 の発現量による色付けの例"
   ]
  },
  {
   "cell_type": "code",
   "execution_count": null,
   "id": "e0d2b6ef-1479-478a-94dc-398ca76d99fa",
   "metadata": {},
   "outputs": [],
   "source": [
    "sc.pl.pca(adata, color='Xkr4')"
   ]
  },
  {
   "cell_type": "code",
   "execution_count": null,
   "id": "8555e4f8-393c-48d9-9b2b-f97049fa504e",
   "metadata": {},
   "outputs": [],
   "source": [
    "sc.pl.pca(adata, color='total_counts', \n",
    "          components=['1,2', '2,3', '1,3'])"
   ]
  },
  {
   "cell_type": "code",
   "execution_count": null,
   "id": "7ad89eb2",
   "metadata": {},
   "outputs": [],
   "source": [
    "# projection='3d'\n",
    "# を指定すると3次元表示（見づらい）\n",
    "sc.pl.pca(adata, color='total_counts', projection='3d')"
   ]
  },
  {
   "cell_type": "code",
   "execution_count": null,
   "id": "942341a3-27cd-4727-848b-055d3368b40e",
   "metadata": {},
   "outputs": [],
   "source": [
    "sc.pl.pca(adata, color='batch', projection='3d')"
   ]
  },
  {
   "cell_type": "markdown",
   "id": "1217ff97-09cd-4ede-b210-5599f865da84",
   "metadata": {},
   "source": [
    "寄与率をグラフで見る"
   ]
  },
  {
   "cell_type": "code",
   "execution_count": null,
   "id": "7e53a140-acf2-4296-9518-935afce77bac",
   "metadata": {},
   "outputs": [],
   "source": [
    "sc.pl.pca_variance_ratio(adata, n_pcs=50)"
   ]
  },
  {
   "cell_type": "markdown",
   "id": "62386133-e4f4-4ba8-bc72-4b7ed343ac14",
   "metadata": {},
   "source": [
    "## t分布型確率的近傍埋め込み（t-SNE）"
   ]
  },
  {
   "cell_type": "markdown",
   "id": "1567685c-0633-43d1-9373-23e2ef07b672",
   "metadata": {},
   "source": [
    "まず、t-SNE, UMAP共通のステップとして、データから「近傍グラフ」（neighborhood graph）の構築が必要。"
   ]
  },
  {
   "cell_type": "code",
   "execution_count": null,
   "id": "a5c0d07f-7e17-4b5e-9bba-6fe31a864532",
   "metadata": {},
   "outputs": [],
   "source": [
    "sc.pp.neighbors(adata)"
   ]
  },
  {
   "cell_type": "markdown",
   "id": "e4b85d6a-5b8b-4b9f-a599-b13f4077bce2",
   "metadata": {},
   "source": [
    "データ点間の接続関係（細胞の近傍関係）は、全細胞vs.全細胞のペアの情報を記録する ***obsp*** （Pairwise annotation of observations の略）に格納される。"
   ]
  },
  {
   "cell_type": "code",
   "execution_count": null,
   "id": "3e5a3463-947e-4f47-a5c2-847446cd7efd",
   "metadata": {},
   "outputs": [],
   "source": [
    "adata.obsp['connectivities']"
   ]
  },
  {
   "cell_type": "markdown",
   "id": "a3b757d7-5d9c-4b5c-a068-6ae2ca1446a5",
   "metadata": {},
   "source": [
    "接続関係を元にしてt-SNEを実行。"
   ]
  },
  {
   "cell_type": "code",
   "execution_count": null,
   "id": "c92f6993-b662-4064-b223-634c3894c7b8",
   "metadata": {},
   "outputs": [],
   "source": [
    "sc.tl.tsne(adata) "
   ]
  },
  {
   "cell_type": "markdown",
   "id": "b2eebc39-20fb-46a5-8fde-95e2d963e7e6",
   "metadata": {},
   "source": [
    "t-SNE結果のプロット。"
   ]
  },
  {
   "cell_type": "code",
   "execution_count": null,
   "id": "f2c8e74b-d1d1-4ff9-a99a-a1bb785b3522",
   "metadata": {},
   "outputs": [],
   "source": [
    "sc.pl.tsne(adata, color='total_counts')"
   ]
  },
  {
   "cell_type": "markdown",
   "id": "119bff1d-52d0-47f8-a16f-bc1202314fc0",
   "metadata": {
    "tags": []
   },
   "source": [
    "## UMAP"
   ]
  },
  {
   "cell_type": "markdown",
   "id": "aa8b6c02-c982-47c2-a264-9d2da4f37e27",
   "metadata": {},
   "source": [
    "近傍グラフはすでに計算しているので、scanpy.tlのumap関数を使えばオーケー。"
   ]
  },
  {
   "cell_type": "code",
   "execution_count": null,
   "id": "5ecc43cb-7afd-4a92-8c7d-38e1c466c38a",
   "metadata": {},
   "outputs": [],
   "source": [
    "sc.tl.umap(adata)"
   ]
  },
  {
   "cell_type": "markdown",
   "id": "871a5023-e9c1-4260-85eb-2a13733d36c0",
   "metadata": {},
   "source": [
    "プロットはt-SNEとほとんど同じ。scanpy.pl以下にUMAP用の描画関数がある。"
   ]
  },
  {
   "cell_type": "code",
   "execution_count": null,
   "id": "6794a4ef-b5c6-4145-b466-ecf377dff0a8",
   "metadata": {},
   "outputs": [],
   "source": [
    "sc.pl.umap(adata, color='total_counts')"
   ]
  },
  {
   "cell_type": "markdown",
   "id": "acbc9717-5007-47c9-9d05-07e3402693a1",
   "metadata": {},
   "source": [
    "あきらかに似た形状の、ふたつの構造がある。。。\n",
    "\n",
    "各細胞が由来するバッチで色分けしてみると・・・"
   ]
  },
  {
   "cell_type": "code",
   "execution_count": null,
   "id": "9087db45-488f-428b-af37-4ab8a7be9a05",
   "metadata": {},
   "outputs": [],
   "source": [
    "sc.pl.umap(adata, color='batch')"
   ]
  },
  {
   "cell_type": "markdown",
   "id": "3944e743-f310-4148-bbee-6e104144072e",
   "metadata": {},
   "source": [
    "ということで、このふたつの構造はもろにバッチ効果の結果だった。なんらかの方法で補正が必要だが、それは後述。"
   ]
  },
  {
   "cell_type": "markdown",
   "id": "0dfe74d7-f2c8-48c9-9daa-367b1b57bd9a",
   "metadata": {},
   "source": [
    "## クラスタリング"
   ]
  },
  {
   "cell_type": "markdown",
   "id": "f9948b41-be6d-4d7d-8c1c-43ef9cca88db",
   "metadata": {},
   "source": [
    "### グラフベースのクラスタリング Leiden クラスタリング\n",
    "高次空間のデータ点からK近傍グラフ構造を作成して、データ点のクラスタリングを、グラフのコミュニティ検出問題として扱う。グラフ構造から「コミュニティ (点のカタマリ、クラスタ)」を見つける。モジュラリティ:コミュニティへの割り当ての良さの指標。このモジュラリティが最大になるようなコミュニティ割り当てを目指す。\n",
    "\n",
    "Leidenクラスタリングを実行してみる。モジュラリティの計算に影響を与える \"resolution\" パラメータが存在する。  \n",
    "\"resolution\" は値が大きいほどクラスタが多くなる。default=1"
   ]
  },
  {
   "cell_type": "code",
   "execution_count": null,
   "id": "8e7e85d0-0d68-4748-bda5-dc31e9bcf050",
   "metadata": {},
   "outputs": [],
   "source": [
    "sc.tl.leiden(adata, resolution=0.5, key_added='leiden_r0.5')"
   ]
  },
  {
   "cell_type": "markdown",
   "id": "8a868eac-5ea0-449b-925f-74328c06af08",
   "metadata": {},
   "source": [
    "クラスタリングの結果は観測値のメタデータ（obs）の中に格納される。"
   ]
  },
  {
   "cell_type": "code",
   "execution_count": null,
   "id": "90174d2d-8dbf-4f33-9956-78e901d11e42",
   "metadata": {},
   "outputs": [],
   "source": [
    "adata.obs"
   ]
  },
  {
   "cell_type": "markdown",
   "id": "cec3157b-8df3-4dca-bbcb-b152c5abef32",
   "metadata": {},
   "source": [
    "プロットする点の座標じたいはUMAPの結果なので、プロットはUMAP版の関数を使い、色分けだけをクラスタリング結果で指定すればいい。"
   ]
  },
  {
   "cell_type": "code",
   "execution_count": null,
   "id": "432b0fe4-0fbd-4fb4-aa51-4403427f7518",
   "metadata": {},
   "outputs": [],
   "source": [
    "sc.pl.umap(adata,\n",
    "           color=['batch', 'leiden_r0.5'],\n",
    "           ncols=2,\n",
    "           frameon=False)"
   ]
  },
  {
   "cell_type": "markdown",
   "id": "cefc3b8c-3430-4948-b372-9c5c815607b8",
   "metadata": {},
   "source": [
    "## 深層生成モデルの利用"
   ]
  },
  {
   "cell_type": "markdown",
   "id": "f2b16eb0-6b90-4511-b7a8-6ac1cbd79d62",
   "metadata": {},
   "source": [
    "scVIが仮定しているデータの生成プロセスは以下の確率モデルに基づく。  \n",
    "詳細は、2023年の講習会で東さんが説明されているのでそちらの動画をご参照ください。(https://www.genome-sci.jp/lecture202212)\n",
    "\n",
    "全細胞数がN, 細胞のインデックスが $n \\in \\{1..N\\}$、全遺伝子数がG、遺伝子のインデックスが $g \\in \\{1..G\\}$、細胞nのバッチIDが$s_n$であるとしたとき、細胞nの遺伝子gのカウントは、\n",
    "\n",
    "$$z_n \\sim Normal(0, I)$$\n",
    "\n",
    "$$l_n \\sim logNormal(l_\\mu, l_\\sigma^2)$$\n",
    "\n",
    "$$\\rho_n = f_w (z_n, s_n)$$\n",
    "\n",
    "$$w_{ng} = Gamma(\\rho_n^g, \\theta)$$\n",
    "\n",
    "$$y_{ng} = Poisson(l_n w_{ng})$$\n",
    "\n",
    "$$h_{ng} = Bernoulli( f_h^g(z_n, s_n) )$$\n",
    "\n",
    "$$\n",
    "  \\begin{equation}\n",
    "    x_{ng} =\n",
    "    \\begin{cases}\n",
    "      y_{ng} & \\text{if}\\ h_{ng}=0 \\\\\n",
    "      0 & \\text{otherwise}\n",
    "    \\end{cases}\n",
    "  \\end{equation}\n",
    "$$\n",
    "\n",
    "$l_\\mu, l_\\sigma$は、スケーリングファクターでバッチの数をBとしたとき$l_\\mu,l_\\sigma \\in \\mathbb{R}^B$で、実際のバッチごとの平均と分散に設定しておく。\n",
    "\n",
    "ガンマ分布のパラメータ、ベルヌーイ分布のパラメータは、正規分布からサンプリングした$z_n$を使ってニューラルネットワークで表現する（VAEにおけるreparametrization trick）。\n",
    "\n",
    "最終的なカウントはガンマとポアソンの複合分布なので、負の二項分布でモデル化してることになる。さらにベルヌーイ分布で、scRNA-seqにありがちなdrop-outイベントを表現。これらの組み合わせで、ゼロ過剰負の二項分布(Zero-inflated negative binomial distribution; ZINB)を表現している。\n",
    "\n",
    "事後分布はVAEをSGDで最適化して変分推論。\n",
    "\n",
    "<span style=\"color: red; \">学習後、$z_n$にアクセスすれば、バッチの効果が除去された細胞の潜在ベクトルが得られるし、$\\rho_{ng}$にアクセスすればdrop-outなどのイベントが生じなかった場合の遺伝子発現の期待値が得られる。</span> "
   ]
  },
  {
   "cell_type": "markdown",
   "id": "85e9b1f4-2414-490f-bb13-87f84d0f11f9",
   "metadata": {},
   "source": [
    "<span style=\"color: red; \">\"drop-out\"</span> とは\n",
    "\n",
    "\n",
    "scRNA-seqでは、各細胞のシーケンスの量が少ないため、特定の遺伝子の発現が検出されないことがある。遺伝子の発現データが欠落していることをドロップアウトという。ドロップアウトが発生すると、データセット内の遺伝子の発現データが不完全になり、遺伝子間の相関や差異が正確に評価されない。この問題を克服するために、統計的手法を用いて欠落したデータを推定 (imputation) または埋めることで、遺伝子発現プロファイルの正確性を向上させる必要がある。"
   ]
  },
  {
   "cell_type": "code",
   "execution_count": null,
   "id": "7107f607-57cb-4e86-8f9c-cd1b403c2af4",
   "metadata": {},
   "outputs": [],
   "source": [
    "import scvi"
   ]
  },
  {
   "cell_type": "markdown",
   "id": "b583da60-e917-4c36-a329-d8bc34511f3f",
   "metadata": {},
   "source": [
    "データを格納したanndataオブジェクトと、バッチのIDを指定したobsのカラムのラベルを指定して、モデルをセットアップする。カウントデータの確率モデルなので、（正規化や対数変換したマトリックスではなく）カウントデータを格納したレイヤーを指定する必要があることに注意。"
   ]
  },
  {
   "cell_type": "code",
   "execution_count": null,
   "id": "3e9e2a5a-8542-4e3e-b346-f965dec8e450",
   "metadata": {},
   "outputs": [],
   "source": [
    "scvi.model.SCVI.setup_anndata(\n",
    "    adata,\n",
    "    layer='counts',\n",
    "    batch_key='batch',\n",
    ")"
   ]
  },
  {
   "cell_type": "markdown",
   "id": "d1d7b409-4c4c-42ea-8323-1e66e0ca0b8e",
   "metadata": {},
   "source": [
    "モデルを作る。ここで中間層のノード数とか潜在ベクトルの次元サイズなど設定できるが、とくに変更しなくていいと思う。"
   ]
  },
  {
   "cell_type": "code",
   "execution_count": null,
   "id": "6af75d62-1cdf-4158-922b-a66964b78487",
   "metadata": {},
   "outputs": [],
   "source": [
    "model = scvi.model.SCVI(adata)"
   ]
  },
  {
   "cell_type": "markdown",
   "id": "0d804876-1e82-41b8-bedb-257bc4933065",
   "metadata": {
    "tags": []
   },
   "source": [
    "### scVIモデルのトレーニング（バッチ補正）"
   ]
  },
  {
   "cell_type": "markdown",
   "id": "f2015e77-a99b-48f8-9514-fddb662f355f",
   "metadata": {},
   "source": [
    "学習を実行する。GPU使わない場合はめっちゃ時間かかるので今回の講習では割愛。学習済みのモデルパラメータを用意したのでそれをロードして学習できたことにする。  \n",
    "\n",
    "とはいえ、深層学習としてはたいして規模の大きいデータセットでもないので、iMac（3.6GHz 10コア Intel Core i9, メモリ128GB）でCPUのみでトレーニングしても30分程度。"
   ]
  },
  {
   "cell_type": "code",
   "execution_count": null,
   "id": "8ef88abd-2b51-4af1-a8f4-a4446d0c7fa8",
   "metadata": {},
   "outputs": [],
   "source": [
    "#model.train()"
   ]
  },
  {
   "cell_type": "code",
   "execution_count": null,
   "id": "c5942f37-8039-4730-9558-4bdd716b9279",
   "metadata": {},
   "outputs": [],
   "source": [
    "#model.save('./models/scVI_model', overwrite=True)"
   ]
  },
  {
   "cell_type": "code",
   "execution_count": null,
   "id": "061332e5-0063-4730-b932-411df3d6b22a",
   "metadata": {},
   "outputs": [],
   "source": [
    "model = scvi.model.SCVI.load('./models/scVI_model', adata=adata)"
   ]
  },
  {
   "cell_type": "markdown",
   "id": "23933cce-c1c6-4f27-84ee-dfca4f1b46c1",
   "metadata": {},
   "source": [
    "学習し細胞ごとのバッチの効果が除去された細胞の潜在表現$z_n$は以下の関数で取得できる。PCAやUMAPの座標と同じように、obsmに格納しておく。"
   ]
  },
  {
   "cell_type": "code",
   "execution_count": null,
   "id": "c4c10df2-8086-4468-a89c-957675691561",
   "metadata": {},
   "outputs": [],
   "source": [
    "adata.obsm['X_scVI'] = model.get_latent_representation()"
   ]
  },
  {
   "cell_type": "markdown",
   "id": "70d111f8-49df-4627-8a7c-5b2b8c71a958",
   "metadata": {},
   "source": [
    "発現量期待値 $\\rho_{ng}$ 、つまりdenoiseされた発現量テーブルは以下の関数で取得できる。適当なライブラリサイズで規格化してくれる。この数値はあとで使いたいので別のレイヤーに格納しておく。"
   ]
  },
  {
   "cell_type": "code",
   "execution_count": null,
   "id": "2e45b776-e6c7-4f84-8706-e0f9871c1e74",
   "metadata": {},
   "outputs": [],
   "source": [
    "adata.layers['scvi_normalized'] = model.get_normalized_expression(library_size=1e4)"
   ]
  },
  {
   "cell_type": "code",
   "execution_count": null,
   "id": "1dd23ac0-a905-44e5-9374-bafbb257bec7",
   "metadata": {},
   "outputs": [],
   "source": [
    "adata"
   ]
  },
  {
   "cell_type": "markdown",
   "id": "460f2b97-8885-41ea-b0cb-b8e4399e04ae",
   "metadata": {
    "tags": []
   },
   "source": [
    "### scVI潜在表現+UMAPによる次元削減"
   ]
  },
  {
   "cell_type": "markdown",
   "id": "1321c3d7-73d1-4921-967b-e5a4c66f1a8e",
   "metadata": {},
   "source": [
    "潜在表現でちゃんとバッチ効果が補正されたかどうか確認してみる。\n",
    "\n",
    "近傍グラフ計算の `scanpy.pp.neighbors` は、デフォルトではPCAで計算した主成分（adata.obsm['X_pca']）を元にグラフを構築する。ここではPCA結果の座標ではなく、scVIで推定された細胞の潜在ベクトルを指定してグラフ構築してみる。バッチ効果が補正されたグラフが構築されるはず。"
   ]
  },
  {
   "cell_type": "code",
   "execution_count": null,
   "id": "08f54498-dfca-4335-bd60-4325f4b347a0",
   "metadata": {},
   "outputs": [],
   "source": [
    "sc.pp.neighbors(adata, use_rep=\"X_scVI\")\n",
    "sc.tl.umap(adata)\n",
    "sc.pl.umap(adata, color='batch')"
   ]
  },
  {
   "cell_type": "markdown",
   "id": "4fec55f7-8923-4198-b9fc-84bd54edc0aa",
   "metadata": {},
   "source": [
    "### scVI潜在表現+Leidenによるクラスタリング"
   ]
  },
  {
   "cell_type": "markdown",
   "id": "3447f14d-a08f-4ef9-9c7b-7d24caf0c61a",
   "metadata": {},
   "source": [
    "同じように、scVI潜在表現で構成された近傍グラフを元にLeidenクラスタリングを実行してみる。上のセルで `scanpy.pp.neighbors` を実行したことにより、adata.obspにはscVI潜在表現で構築された近傍グラフが入っているので、ここでは普通に `scanpy.tl.leiden` を実行すればいい。"
   ]
  },
  {
   "cell_type": "code",
   "execution_count": null,
   "id": "054eae5d-5bc7-43d5-8c7f-e34b79752c60",
   "metadata": {},
   "outputs": [],
   "source": [
    "sc.tl.leiden(adata, key_added=\"leiden_scVI\", resolution=1.0)\n",
    "sc.pl.umap(adata,\n",
    "           color=['batch', 'leiden_scVI'],\n",
    "           ncols=2,\n",
    "           frameon=False)"
   ]
  },
  {
   "cell_type": "code",
   "execution_count": null,
   "id": "0847c329",
   "metadata": {},
   "outputs": [],
   "source": [
    "# 遺伝子 Top2a, Mcm6の比較でdrop-outが補正されたか確認。\n",
    "sc.pl.scatter(adata, x='Top2a', y='Mcm6', color='leiden_scVI')"
   ]
  },
  {
   "cell_type": "code",
   "execution_count": null,
   "id": "efd2a001",
   "metadata": {},
   "outputs": [],
   "source": [
    "sc.pl.scatter(adata, x='Top2a', y='Mcm6', use_raw=False, layers='scvi_normalized', color='leiden_scVI')"
   ]
  },
  {
   "cell_type": "markdown",
   "id": "8f758b37-afc9-4b99-b59b-a87c118a96fd",
   "metadata": {},
   "source": [
    "### Doublet検出"
   ]
  },
  {
   "cell_type": "markdown",
   "id": "667c6945-331d-47f0-b36e-411206eb9575",
   "metadata": {},
   "source": [
    "Doublet とは: 2つ以上の細胞が単一細胞としてシーケンスされている状態。\n",
    "\n",
    "[SOLO](https://doi.org/10.1016/j.cels.2020.05.010)によるDoublet検出。\n",
    "\n",
    "Bernstein, Nicholas J., et al. \"Solo: doublet identification in single-cell RNA-Seq via semi-supervised deep learning.\" Cell systems 11.1 (2020): 95-101.\n",
    "\n",
    "時間に余裕があればやる。"
   ]
  },
  {
   "cell_type": "code",
   "execution_count": null,
   "id": "37494c86-78a2-400d-a16f-b3e725b27168",
   "metadata": {},
   "outputs": [],
   "source": [
    "results = []\n",
    "for batch in ['F2', 'E2']:\n",
    "    tmp_solo_model = scvi.external.SOLO.from_scvi_model(\n",
    "        model, restrict_to_batch=batch)\n",
    "    tmp_solo_model.train()\n",
    "    result = tmp_solo_model.predict(soft=False)\n",
    "    # 意図は不明だがSOLO予測のindexになぜか \"-0\" が付加されるので消しておく\n",
    "    result.index = result.index.str.replace(\"-0$\", \"\", regex=True)\n",
    "    results.append(result)\n",
    "results = pd.concat(results)"
   ]
  },
  {
   "cell_type": "code",
   "execution_count": null,
   "id": "b8f69cb8-a7f5-4161-8311-b7b11485ae3b",
   "metadata": {},
   "outputs": [],
   "source": [
    "results[adata.obs.index]"
   ]
  },
  {
   "cell_type": "code",
   "execution_count": null,
   "id": "f4d6e454-7605-43e0-bd0f-a5fbf8ce3a77",
   "metadata": {},
   "outputs": [],
   "source": [
    "adata.obs['SOLO_prediction'] = results[adata.obs.index]"
   ]
  },
  {
   "cell_type": "code",
   "execution_count": null,
   "id": "06db581a-6af3-4d63-8f47-48ef46b57f6f",
   "metadata": {},
   "outputs": [],
   "source": [
    "adata.obs['SOLO_prediction'].value_counts()"
   ]
  },
  {
   "cell_type": "code",
   "execution_count": null,
   "id": "016159bc-4c70-4465-bd41-481ea936a1f2",
   "metadata": {},
   "outputs": [],
   "source": [
    "sc.pl.umap(adata, color='SOLO_prediction', frameon=False)"
   ]
  },
  {
   "cell_type": "markdown",
   "id": "359890d7-0342-4cdb-a758-b29c9b3be495",
   "metadata": {
    "tags": []
   },
   "source": [
    "### DEG解析"
   ]
  },
  {
   "cell_type": "markdown",
   "id": "7d71a57c-9909-48d2-84e1-74a61b2ddb34",
   "metadata": {},
   "source": [
    "仮説検定ではなく、ベイズ統計の枠組みでモデル比較を行う。基本的にはある集団と別の集団それぞれの遺伝子発現量期待値（VAEでdenoiseした発現量$\\rho_{ng}$）のlog fold changeの値が、ある閾値以下となるか、それ以上の変化があるか、のふたつのモデルで比較する。\n",
    "\n",
    "`groupby`にラベルを指定すると、そのクラス（この場合はleidenクラスタリングのひとつのクラスタ）とその他全部で自動的に比較してくれる。比較のグループを一部に制限したり、ペアを指定したりいろいろと複雑に組み合わせは指定できる。詳細は[APIのドキュメント](https://docs.scvi-tools.org/en/stable/api/reference/scvi.model.SCVI.html#scvi.model.SCVI.differential_expression)に。"
   ]
  },
  {
   "cell_type": "code",
   "execution_count": null,
   "id": "f374234c-6c7d-44fa-9266-d5120e6967f6",
   "metadata": {},
   "outputs": [],
   "source": [
    "DEs = model.differential_expression(groupby='leiden_scVI')\n",
    "DEs.head()"
   ]
  },
  {
   "cell_type": "markdown",
   "id": "51f3b63c-120d-4e62-b447-b3b1a05b68ae",
   "metadata": {},
   "source": [
    "proba_de: DEG の確率  \n",
    "proba_not_de: DEG ではない確率  \n",
    "balyes_factor: ベイズ統計の枠組みでモデル比較した時の指標のひとつ。  \n",
    "comparison: どのグループとどのグループで比較をした結果か。  "
   ]
  },
  {
   "cell_type": "markdown",
   "id": "e0399130-6a6f-4740-b155-5d730d4bff0e",
   "metadata": {},
   "source": [
    "それぞれのクラスタ「特異的」遺伝子、DEG確率の高い順に上から3つくらい見てみる。"
   ]
  },
  {
   "cell_type": "code",
   "execution_count": null,
   "id": "e3d5a53b-40e7-49e5-b9a3-81404d5f118a",
   "metadata": {},
   "outputs": [],
   "source": [
    "markers = {}\n",
    "for i, c in enumerate(adata.obs['leiden_scVI'].unique()):\n",
    "    comparison_label = \"{} vs Rest\".format(c)\n",
    "    cluster_df = DEs.loc[DEs['comparison'] == comparison_label]\n",
    "    cluster_df = cluster_df[cluster_df['lfc_mean'] > 0]  # lfc_mean > 0: そのクラスター特異的に発現している遺伝子\n",
    "    cluster_df = cluster_df[cluster_df['bayes_factor'] > 3]\n",
    "    cluster_df = cluster_df[cluster_df['non_zeros_proportion1'] > 0.1]\n",
    "    markers[c] = cluster_df.index.tolist()[:3]"
   ]
  },
  {
   "cell_type": "code",
   "execution_count": null,
   "id": "fad90abe-b5dc-458e-894a-5303f49fb828",
   "metadata": {},
   "outputs": [],
   "source": [
    "markers"
   ]
  },
  {
   "cell_type": "markdown",
   "id": "a1d5584b-af96-49b5-8cc0-3fd9eb915a7f",
   "metadata": {},
   "source": [
    "図でLeidenクラスタのデンドログラムを表示したいので事前に計算しておく。"
   ]
  },
  {
   "cell_type": "code",
   "execution_count": null,
   "id": "978ba1c5-0103-432c-8639-97e35bcd3575",
   "metadata": {},
   "outputs": [],
   "source": [
    "sc.tl.dendrogram(adata, groupby='leiden_scVI', use_rep='X_scVI')"
   ]
  },
  {
   "cell_type": "markdown",
   "id": "bb4fc4dd-1130-4ebc-82ea-2ed2ba1363df",
   "metadata": {},
   "source": [
    "クラスタ間での遺伝子発現量の比較は、`scanpy.pl.dotplot`が見やすくて便利。上で抽出したマーカー遺伝子を指定して、表示する発現量の数値としてはadata.rawに格納したデータで描画する。"
   ]
  },
  {
   "cell_type": "code",
   "execution_count": null,
   "id": "045883dc-ed8f-42e0-9508-82324d3219d6",
   "metadata": {},
   "outputs": [],
   "source": [
    "sc.pl.dotplot(\n",
    "    adata,\n",
    "    markers,\n",
    "    groupby='leiden_scVI',\n",
    "    dendrogram=True,\n",
    "    color_map=\"Blues\",\n",
    "    swap_axes=True,\n",
    "    use_raw=True,\n",
    "    standard_scale='var')"
   ]
  },
  {
   "cell_type": "markdown",
   "id": "7fc52e07-a9d8-4d88-90b5-cf98897910ba",
   "metadata": {},
   "source": [
    "クラスタ平均値ではなくクラスタごと細胞ごとの全部の（scVIノーマライズされた）発現量でヒートマップを描くこともできる。"
   ]
  },
  {
   "cell_type": "code",
   "execution_count": null,
   "id": "a50ac250-15e8-470f-9610-f5503b2eb893",
   "metadata": {},
   "outputs": [],
   "source": [
    "sc.pl.heatmap(\n",
    "    adata,\n",
    "    markers,\n",
    "    groupby='leiden_scVI',\n",
    "    layer='scvi_normalized',\n",
    "    standard_scale=\"var\",\n",
    "    dendrogram=True,\n",
    "    figsize=(8, 12)\n",
    ")"
   ]
  },
  {
   "cell_type": "markdown",
   "id": "051e8cf5-da65-44f2-9b97-77b4fb449ba5",
   "metadata": {},
   "source": [
    "## データの保存"
   ]
  },
  {
   "cell_type": "code",
   "execution_count": null,
   "id": "9eefdfe0-2bdb-40a6-9d17-39b4da8b21c4",
   "metadata": {},
   "outputs": [],
   "source": [
    "adata.write(filename='./data/retinal_1.h5ad')"
   ]
  },
  {
   "cell_type": "code",
   "execution_count": null,
   "id": "8362ed78",
   "metadata": {},
   "outputs": [],
   "source": []
  },
  {
   "cell_type": "code",
   "execution_count": null,
   "id": "a44cca6d-1ce4-4874-a406-c168e6bf9fd7",
   "metadata": {},
   "outputs": [],
   "source": []
  }
 ],
 "metadata": {
  "kernelspec": {
   "display_name": "Python 3 (ipykernel)",
   "language": "python",
   "name": "python3"
  },
  "language_info": {
   "codemirror_mode": {
    "name": "ipython",
    "version": 3
   },
   "file_extension": ".py",
   "mimetype": "text/x-python",
   "name": "python",
   "nbconvert_exporter": "python",
   "pygments_lexer": "ipython3",
   "version": "3.11.8"
  },
  "toc-autonumbering": false,
  "toc-showcode": false,
  "toc-showmarkdowntxt": false
 },
 "nbformat": 4,
 "nbformat_minor": 5
}
