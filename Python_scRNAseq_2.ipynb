{
 "cells": [
  {
   "cell_type": "markdown",
   "id": "9448ac1c-bdc9-463d-a7f2-e00dd763f87f",
   "metadata": {},
   "source": [
    "# PythonによるscRNA-seq解析 その2:下流解析いろいろ"
   ]
  },
  {
   "cell_type": "code",
   "execution_count": null,
   "id": "4527561c-9589-43f9-835a-cc391db07b9a",
   "metadata": {},
   "outputs": [],
   "source": [
    "def warn(*args, **kwargs):\n",
    "    pass\n",
    "import warnings\n",
    "warnings.warn = warn\n",
    "\n",
    "import os\n",
    "import numpy as np\n",
    "import pandas as pd\n",
    "import scanpy as sc\n",
    "import scvi\n",
    "import matplotlib.pyplot as plt\n",
    "import seaborn as sns\n",
    "\n",
    "sc.settings.verbosity = 3\n",
    "sc.logging.print_header()\n",
    "sc.settings.set_figure_params(dpi=100, facecolor='white')"
   ]
  },
  {
   "cell_type": "code",
   "execution_count": null,
   "id": "fcacf368-df56-4fd7-a4a3-a4954bc0288a",
   "metadata": {},
   "outputs": [],
   "source": [
    "adata = sc.read_h5ad('./data/retinal_1.h5ad')"
   ]
  },
  {
   "cell_type": "code",
   "execution_count": null,
   "id": "ea33355e-6b8a-4b61-abf0-6842108dffeb",
   "metadata": {},
   "outputs": [],
   "source": [
    "sc.pl.umap(adata, color=['leiden_scVI'], frameon=False)"
   ]
  },
  {
   "cell_type": "code",
   "execution_count": null,
   "id": "5066ecc8-2978-48cf-aa96-8c1ee6d0ce9f",
   "metadata": {},
   "outputs": [],
   "source": [
    "adata"
   ]
  },
  {
   "cell_type": "markdown",
   "id": "6ae87d6a-0962-481f-b4e6-62f159c61201",
   "metadata": {},
   "source": [
    "## Cell typeのアノテーション"
   ]
  },
  {
   "cell_type": "markdown",
   "id": "e56aaf1d-d073-42ae-a5ce-7397376e8969",
   "metadata": {},
   "source": [
    "### マニュアルアノテーション"
   ]
  },
  {
   "cell_type": "markdown",
   "id": "86c6d193-4488-40f1-9b3f-548bc8a4974b",
   "metadata": {},
   "source": [
    "先行研究・文献、研究者の経験に基づいて細胞型ごとのマーカー遺伝子をリストアップし、それらの発現量からマニュアルで各クラスタのアノテーションをつけていく方法。\n",
    "\n",
    "クラシカルな方法で、ある種恣意的な側面もあるが、判断根拠と責任の所在がはっきりしていて安心感がある。\n",
    "\n",
    "以下の点に注意が必要。\n",
    "\n",
    "1. クラスタレベルのアノテーションにならざるを得ないこと（とてもじゃないが1細胞ごとにマニュアルアノテーションできない）\n",
    "2. かならずしもタンパク質マーカー＝遺伝子発現マーカーとは限らないこと（できるだけトランスクリプトーム解析の結果として定義されたマーカーを使う）\n",
    "3. 「特定の研究・データセット」の結果が適用できるとは限らないこと（できるだけ複数の研究で報告されている遺伝子が望ましい）"
   ]
  },
  {
   "cell_type": "code",
   "execution_count": null,
   "id": "8d1b5581-e3b6-4ef5-add6-bd7005396181",
   "metadata": {},
   "outputs": [],
   "source": [
    "# 文献： https://doi.org/10.1523/JNEUROSCI.0471-20.2020 \n",
    "# および、https://doi.org/10.1167/iovs.64.11.2\n",
    "# より抽出した。\n",
    "\n",
    "my_markers = {\n",
    "    'Amacrine cell':['Pax6', 'Slc32a1'],\n",
    "    'Horizontal cell':['Lhx1'],\n",
    "    'Bipolar cell':['Vsx2', 'Samsn1'],\n",
    "    'Cone cell':['Opn1sw'],\n",
    "    'RGC':['Slc17a6', 'Pou4f1'],\n",
    "    'Muller cell':['Slc1a3', 'Lhx2']}"
   ]
  },
  {
   "cell_type": "code",
   "execution_count": null,
   "id": "233c6fe7-2275-4d3a-90e7-a621f6a02936",
   "metadata": {
    "scrolled": true
   },
   "outputs": [],
   "source": [
    "for celltype in my_markers.keys():\n",
    "    print(celltype)\n",
    "    sc.pl.umap(adata, color=my_markers[celltype], vmin=0, frameon=False, cmap='Reds')"
   ]
  },
  {
   "cell_type": "code",
   "execution_count": null,
   "id": "d7239d14-e5ae-4eaa-8d35-682d37704db5",
   "metadata": {},
   "outputs": [],
   "source": [
    "sc.pl.umap(adata, color=['leiden_scVI'], frameon=False)"
   ]
  },
  {
   "cell_type": "code",
   "execution_count": null,
   "id": "e4976138-02c4-4ecd-a82d-0749dedd86de",
   "metadata": {},
   "outputs": [],
   "source": [
    "sc.pl.dotplot(adata,\n",
    "              groupby='leiden_scVI',\n",
    "              var_names=my_markers)"
   ]
  },
  {
   "cell_type": "code",
   "execution_count": null,
   "id": "c7ee1acb-bc31-4705-b000-c44888188bd5",
   "metadata": {},
   "outputs": [],
   "source": [
    "my_estimate = {\n",
    "    '2':'Amacrine',\n",
    "    '11':'Horizontal',\n",
    "    '5':'Bipolar',\n",
    "    '1':'RGC',\n",
    "    '10':'RGC',\n",
    "    '12':'RGC',\n",
    "    '0':'Muller',\n",
    "    '3':'Muller',\n",
    "    '6':'Muller',\n",
    "    '8':'Muller'}"
   ]
  },
  {
   "cell_type": "code",
   "execution_count": null,
   "id": "e370694a-7998-42ad-a1ae-0bf29e3a776e",
   "metadata": {},
   "outputs": [],
   "source": [
    "adata.obs['Manual_annotation'] = adata.obs['leiden_scVI'].map(my_estimate)"
   ]
  },
  {
   "cell_type": "code",
   "execution_count": null,
   "id": "dec59331-07d7-47fc-9d40-3544df34afaf",
   "metadata": {},
   "outputs": [],
   "source": [
    "adata.obs"
   ]
  },
  {
   "cell_type": "code",
   "execution_count": null,
   "id": "5d26a695-45b4-49eb-a6df-fb92cc62d359",
   "metadata": {},
   "outputs": [],
   "source": [
    "sc.pl.umap(adata, color=['Manual_annotation'], frameon=False)"
   ]
  },
  {
   "cell_type": "markdown",
   "id": "2c28b44d",
   "metadata": {},
   "source": [
    "## アトラスとの統合・ラベル転移"
   ]
  },
  {
   "cell_type": "markdown",
   "id": "e90b2bfd",
   "metadata": {},
   "source": [
    "マーカー遺伝子を使ったアノテーションがあんまりうまくいってないっぽいので、今度は「リファレンスデータからのラベル転移」でやってみる。\n",
    "\n",
    "高精度なアノテーションが付与されたシングルセル解析データが大量に蓄積されているアトラスとして、マウスの場合はたとえば[Tabula Muris](https://tabula-muris.ds.czbiohub.org), [Tabula Muris Senis](https://tabula-muris-senis.ds.czbiohub.org)がある。\n",
    "\n",
    "ただどちらにも欲しい組織（網膜発生プロセス）が欲しい解像度で収載されていない。\n",
    "\n",
    "ここでは、別の論文のデータを使う。網膜神経系発生について、胚から産後まで10個のタイムポイントで大量の細胞（10万以上）を対象にシングルセル解析したデータ。\n",
    "\n",
    "Clark, Brian S., et al. \"Single-cell RNA-seq analysis of retinal development identifies NFI factors as regulating mitotic exit and late-born cell specification.\" Neuron 102.6 (2019): 1111-1126.\n",
    "[https://doi.org/10.1016/j.neuron.2019.04.010](https://doi.org/10.1016/j.neuron.2019.04.010)\n",
    "\n",
    "この論文の素晴らしいところは、すべての細胞の遺伝子発現カウントデータとcell typeのアノテーションを[公開してくれている](https://github.com/gofflab/developing_mouse_retina_scRNASeq)ところ。\n",
    "\n",
    "マウス網膜神経発生アトラスといって差し支えないこのデータを活用して、ここまで扱ってきたデータとの統合解析を実行し、アトラスに付与されたcell typeアノテーションをラベル転移（Label transfer）する。\n",
    "\n",
    "ラベル転移の半教師あり学習には [scANVI](https://docs.scvi-tools.org/en/stable/user_guide/models/scanvi.html#ref1) を使う。確率モデルの詳細は以下の論文を参照。\n",
    "\n",
    "Xu, Chenling, et al. \"Probabilistic harmonization and annotation of single‐cell transcriptomics data with deep generative models.\" Molecular systems biology 17.1 (2021): e9620. [https://doi.org/10.15252/msb.20209620](https://doi.org/10.15252/msb.20209620)\n",
    "\n",
    "scANVIはscvi-toolsにモデルのひとつとして実装されている。\n",
    "\n",
    "めっちゃデカいファイルで、GPU使わない場合は学習にも時間かかるので、学習については全部スキップ。学習されたモデルからラベルを予測した結果だけcsvファイルで配布する。"
   ]
  },
  {
   "cell_type": "markdown",
   "id": "db489cf9-77b8-4bc9-870f-2d32a68bb4c8",
   "metadata": {},
   "source": [
    "### ***講習ではここからスキップ***"
   ]
  },
  {
   "cell_type": "markdown",
   "id": "69c7c023-7165-48e9-9c88-ffe22ee473c1",
   "metadata": {},
   "source": [
    "もし自分の環境で実行してみたい場合は、以下にデータを置いているので、ダウンロードして実行してみてもいい。講師のノートPC環境（Apple M1, 16GBメモリ）でもそこまで計算負荷は高くない。"
   ]
  },
  {
   "cell_type": "code",
   "execution_count": null,
   "id": "a8c3be0a-eedf-4a4a-8809-ff122b6c762a",
   "metadata": {},
   "outputs": [],
   "source": [
    "#!wget -r -np -nH --cut-dirs=3 -R \"index.html*\" http://palaeo.nig.ac.jp/Resources/PAGSTutorial2024/ref_data/"
   ]
  },
  {
   "cell_type": "markdown",
   "id": "1267492a",
   "metadata": {},
   "source": [
    "リファレンスデータの読み込み。マトリックス、遺伝子メタデータ、細胞メタデータがそれぞれ個別にファイルとして置いてあるので、それぞれ読み込んでひとつのanndataに統合する。"
   ]
  },
  {
   "cell_type": "code",
   "execution_count": null,
   "id": "5281c6d8",
   "metadata": {},
   "outputs": [],
   "source": [
    "mtx = sc.read_mtx('./ref_data/10x_mouse_retina_development.mtx')\n",
    "refdata = mtx.transpose()\n",
    "refdata.obs = pd.read_csv('./ref_data/10x_Mouse_retina_pData_umap2_CellType_annot_w_horiz.csv')\n",
    "refdata.obs = refdata.obs.set_index('barcode')\n",
    "refdata.var = pd.read_csv('./ref_data/10x_mouse_retina_development_feature.csv')\n",
    "refdata.var = refdata.var.set_index('gene_short_name')"
   ]
  },
  {
   "cell_type": "markdown",
   "id": "eb8ae36a",
   "metadata": {},
   "source": [
    "リファレンスデータのUMAP座標は計算済みのやつが細胞メタデータに記載されているので、`scanpy.pl.umap`で自動で読み込めるように、`obsm`の中に入れておく。このリファレンスデータの全体像がさくっと確認できる。"
   ]
  },
  {
   "cell_type": "code",
   "execution_count": null,
   "id": "74b3b726",
   "metadata": {},
   "outputs": [],
   "source": [
    "refdata.obsm['X_umap'] = refdata.obs[['umap_coord1', 'umap_coord2']].values\n",
    "sc.pl.umap(refdata, \n",
    "           color='umap2_CellType',\n",
    "           frameon=False)"
   ]
  },
  {
   "cell_type": "code",
   "execution_count": null,
   "id": "acc5afee-f68c-4bbc-9993-6980749b23ac",
   "metadata": {},
   "outputs": [],
   "source": [
    "refdata.shape"
   ]
  },
  {
   "cell_type": "markdown",
   "id": "064e6822",
   "metadata": {},
   "source": [
    "クエリデータ（ここまで扱ってきたデータ）を **カウントデータ** として用意する。scANVIはscVIと同様、カウントデータを学習する確率モデルであるため。別レイヤーに取っておいたカウントのデータから新しいanndataを作る。\n",
    "\n",
    "リファレンスデータは 'sample' のラベルのところに別々のタイムポイントからとったサンプルのラベルが記載されている。これをバッチと捉えてバッチ補正を行いたいので、クエリ側のバッチラベル（\"E2\", \"F2\"）もここに記述しておく。"
   ]
  },
  {
   "cell_type": "code",
   "execution_count": null,
   "id": "e9ec2d1d",
   "metadata": {},
   "outputs": [],
   "source": [
    "from anndata import AnnData\n",
    "query = AnnData(X=adata.layers['counts'], obs=adata.obs, var=adata.var)\n",
    "query.obs['sample'] = query.obs['batch']"
   ]
  },
  {
   "cell_type": "markdown",
   "id": "51062209",
   "metadata": {},
   "source": [
    "リファレンスとクエリのデータをひとつのanndataにまとめる。"
   ]
  },
  {
   "cell_type": "code",
   "execution_count": null,
   "id": "628b0bb9",
   "metadata": {},
   "outputs": [],
   "source": [
    "refdata.var_names_make_unique()\n",
    "alldata = refdata.concatenate(query)"
   ]
  },
  {
   "cell_type": "code",
   "execution_count": null,
   "id": "11ce67e3-0ec1-4c97-9578-d49b8f4a4c6d",
   "metadata": {},
   "outputs": [],
   "source": [
    "alldata.obs"
   ]
  },
  {
   "cell_type": "markdown",
   "id": "f5cd11d0",
   "metadata": {},
   "source": [
    "前半でやったのと同じような、シングルセル解析の前処理をデータ全体に対して実行する。"
   ]
  },
  {
   "cell_type": "code",
   "execution_count": null,
   "id": "9c66e446",
   "metadata": {},
   "outputs": [],
   "source": [
    "alldata.layers['counts'] = alldata.X.copy()\n",
    "sc.pp.normalize_per_cell(alldata, counts_per_cell_after=1e4)\n",
    "sc.pp.log1p(alldata)\n",
    "alldata.raw = alldata"
   ]
  },
  {
   "cell_type": "code",
   "execution_count": null,
   "id": "4e188b63",
   "metadata": {},
   "outputs": [],
   "source": [
    "sc.pp.highly_variable_genes(alldata, n_top_genes=2000, flavor='seurat')"
   ]
  },
  {
   "cell_type": "markdown",
   "id": "61f49aec",
   "metadata": {},
   "source": [
    "scVIを利用してデータ全体のバッチ補正を行う統合モデルを学習する。CPUで学習する場合は時間かかる。一般的なPCのCPUオンリー計算で数時間から半日くらい。"
   ]
  },
  {
   "cell_type": "code",
   "execution_count": null,
   "id": "60669ec9",
   "metadata": {},
   "outputs": [],
   "source": [
    "scvi.model.SCVI.setup_anndata(alldata, layer='counts', batch_key='sample')"
   ]
  },
  {
   "cell_type": "code",
   "execution_count": null,
   "id": "dcd696b3",
   "metadata": {},
   "outputs": [],
   "source": [
    "integration_model = scvi.model.SCVI(alldata)\n",
    "integration_model.train()"
   ]
  },
  {
   "cell_type": "code",
   "execution_count": null,
   "id": "d5f701b0",
   "metadata": {},
   "outputs": [],
   "source": [
    "integration_model.save('./models/integration_model')"
   ]
  },
  {
   "cell_type": "code",
   "execution_count": null,
   "id": "ca13b90e",
   "metadata": {},
   "outputs": [],
   "source": [
    "integration_model = scvi.model.SCVI.load('./models/integration_model', alldata)"
   ]
  },
  {
   "cell_type": "code",
   "execution_count": null,
   "id": "2e198b3c-fb0b-4983-8321-3513d39c0e41",
   "metadata": {},
   "outputs": [],
   "source": [
    "alldata.obsm['X_scVI'] = integration_model.get_latent_representation()"
   ]
  },
  {
   "cell_type": "code",
   "execution_count": null,
   "id": "f1c9866d-8d4a-4a02-a5e3-18e984c40a98",
   "metadata": {},
   "outputs": [],
   "source": [
    "alldata.obs['DataFrom'] = np.where(alldata.obs['sample'].isin(['E2', 'F2']), 'Query', 'Ref')"
   ]
  },
  {
   "cell_type": "code",
   "execution_count": null,
   "id": "846d1bd2-38e2-40d2-be7c-324a9071c7a2",
   "metadata": {},
   "outputs": [],
   "source": [
    "sc.pp.neighbors(alldata,\n",
    "                n_neighbors=30,\n",
    "                use_rep=\"X_scVI\")\n",
    "sc.tl.umap(alldata, min_dist=0.5)"
   ]
  },
  {
   "cell_type": "code",
   "execution_count": null,
   "id": "f4943677-136f-4471-a75b-ab219ab7fa9e",
   "metadata": {},
   "outputs": [],
   "source": [
    "sc.pl.umap(alldata, \n",
    "           color=['DataFrom', 'umap2_CellType'],\n",
    "           ncols=2,\n",
    "           frameon=False)"
   ]
  },
  {
   "cell_type": "markdown",
   "id": "d8d0e866",
   "metadata": {},
   "source": [
    "リファレンス側のデータでcell typeが記述されているカラム（'umap2_CellType'）が、クエリ側のデータでは現在 NaN になっているので、ここを全部 'Unknown' にセットしておく。"
   ]
  },
  {
   "cell_type": "code",
   "execution_count": null,
   "id": "6bf893d7",
   "metadata": {},
   "outputs": [],
   "source": [
    "alldata.obs['umap2_CellType'] = alldata.obs['umap2_CellType'].cat.add_categories('Unknown')\n",
    "alldata.obs = alldata.obs.fillna({'umap2_CellType':'Unknown'})"
   ]
  },
  {
   "cell_type": "markdown",
   "id": "0d400a7d",
   "metadata": {},
   "source": [
    "統合モデル、統合データ、未知ラベルのカラムと名前を指定してscANVIモデルをセットアップする。"
   ]
  },
  {
   "cell_type": "code",
   "execution_count": null,
   "id": "41d65570",
   "metadata": {},
   "outputs": [],
   "source": [
    "label_model = scvi.model.SCANVI.from_scvi_model(integration_model,\n",
    "                                                adata=alldata,\n",
    "                                                unlabeled_category='Unknown',\n",
    "                                                labels_key='umap2_CellType')"
   ]
  },
  {
   "cell_type": "markdown",
   "id": "2cda4233",
   "metadata": {},
   "source": [
    "ラベル転移の学習を実行する。ここはそれほど計算時間かからない（ようにパラメータを設定しているが精度はじゅうぶん出る）"
   ]
  },
  {
   "cell_type": "code",
   "execution_count": null,
   "id": "d354435b",
   "metadata": {},
   "outputs": [],
   "source": [
    "label_model.train(n_samples_per_label=100)\n",
    "label_model.save('./models/label_transfer')"
   ]
  },
  {
   "cell_type": "code",
   "execution_count": null,
   "id": "128e831d",
   "metadata": {},
   "outputs": [],
   "source": [
    "label_model = scvi.model.SCANVI.load('./models/label_transfer/', alldata)"
   ]
  },
  {
   "cell_type": "markdown",
   "id": "75eaa404",
   "metadata": {},
   "source": [
    "学習されたモデルでcell typeの予測を実行する。"
   ]
  },
  {
   "cell_type": "code",
   "execution_count": null,
   "id": "a0f4a396",
   "metadata": {},
   "outputs": [],
   "source": [
    "# predict関数で、soft=Trueとすれば、最大確率のラベルだけでなく、それぞれのラベルの確率値をちゃんと出してくれる\n",
    "alldata.obs['predicted_celltype'] = label_model.predict(alldata)"
   ]
  },
  {
   "cell_type": "markdown",
   "id": "f700107b",
   "metadata": {},
   "source": [
    "この予測結果全体からクエリ側に対応するデータだけ抜き出して、以下のようにcsvとして保存したのが配布しているデータ。"
   ]
  },
  {
   "cell_type": "code",
   "execution_count": null,
   "id": "be893a71",
   "metadata": {},
   "outputs": [],
   "source": [
    "predictions = alldata.obs[(alldata.obs['sample'] == 'E2') | (alldata.obs['sample'] == 'F2')]['predicted_celltype']\n",
    "predictions.index = predictions.index.str[:-2]\n",
    "predictions.to_csv('./models/label_transfer/celltype_predictions.csv')"
   ]
  },
  {
   "cell_type": "markdown",
   "id": "727b9055-ab0f-4878-9d48-9f97ad954057",
   "metadata": {},
   "source": [
    "### ***講習ではここから再開***"
   ]
  },
  {
   "cell_type": "markdown",
   "id": "a9af2351",
   "metadata": {},
   "source": [
    "csvファイルをロード。"
   ]
  },
  {
   "cell_type": "code",
   "execution_count": null,
   "id": "815e5037",
   "metadata": {},
   "outputs": [],
   "source": [
    "predictions = pd.read_csv('./models/label_transfer/celltype_predictions.csv', index_col=0)"
   ]
  },
  {
   "cell_type": "code",
   "execution_count": null,
   "id": "ea07b1f8",
   "metadata": {},
   "outputs": [],
   "source": [
    "predictions"
   ]
  },
  {
   "cell_type": "markdown",
   "id": "b689792e",
   "metadata": {},
   "source": [
    "adataに予測されたラベルを格納。"
   ]
  },
  {
   "cell_type": "code",
   "execution_count": null,
   "id": "894be758",
   "metadata": {},
   "outputs": [],
   "source": [
    "adata.obs['predicted_celltype'] = predictions.loc[adata.obs.index, 'predicted_celltype']"
   ]
  },
  {
   "cell_type": "markdown",
   "id": "1dedf241",
   "metadata": {},
   "source": [
    "予測されたラベルの細胞数カウントは以下。それっぽいラベルが並んでいる。"
   ]
  },
  {
   "cell_type": "code",
   "execution_count": null,
   "id": "84ec8bb9",
   "metadata": {},
   "outputs": [],
   "source": [
    "adata.obs['predicted_celltype'].value_counts()"
   ]
  },
  {
   "cell_type": "markdown",
   "id": "2707da2c",
   "metadata": {},
   "source": [
    "以下が予測結果で色分けしたUMAP。\n",
    "\n",
    "RPCs は Retinal Progenitor Cells の略。\n",
    "\n",
    "RPCs からNeurogenicにつながって、Photoreceptor/Conesに分岐していく流れと、Amacrine/Horizontalに分岐していく流れと、Retinal ganglion cellsに分岐する3つの流れに分かれていることがわかった。"
   ]
  },
  {
   "cell_type": "code",
   "execution_count": null,
   "id": "ae817534",
   "metadata": {},
   "outputs": [],
   "source": [
    "sc.pl.umap(adata,\n",
    "    color=['leiden_scVI', 'predicted_celltype'],\n",
    "    frameon=False, alpha=0.5,\n",
    "    ncols=2)"
   ]
  },
  {
   "cell_type": "markdown",
   "id": "56b9244d",
   "metadata": {},
   "source": [
    "Leidenクラスタに名前をつけたいので、それぞれのクラスタに所属している細胞がどのcell typeラベルを持っているのか、数をクロス集計してみる。"
   ]
  },
  {
   "cell_type": "code",
   "execution_count": null,
   "id": "605a8228",
   "metadata": {},
   "outputs": [],
   "source": [
    "pd.crosstab(adata.obs['leiden_scVI'], adata.obs['predicted_celltype'])"
   ]
  },
  {
   "cell_type": "markdown",
   "id": "a7fdd3b9",
   "metadata": {},
   "source": [
    "このカウントを元に、多数決で以下のような適当な名前をつけた。"
   ]
  },
  {
   "cell_type": "code",
   "execution_count": null,
   "id": "e3640892",
   "metadata": {},
   "outputs": [],
   "source": [
    "leiden_to_celltypes = {\n",
    "    '0':'Late-RPCs-1',\n",
    "    '1':'RGCs-1',\n",
    "    '2':'Amacrine',\n",
    "    '3':'Early-RPCs-1',\n",
    "    '4':'Neurogenic-1',\n",
    "    '5':'Cones',\n",
    "    '6':'Early-RPCs-2',\n",
    "    '7':'Neurogenic-2',\n",
    "    '8':'Late-RPCs-2',\n",
    "    '9':'RGCs-2',\n",
    "    '10':'RGCs-3',\n",
    "    '11':'Horizontal',\n",
    "    '12':'RGCs-4'}\n",
    "\n",
    "adata.obs['leiden_celltypes'] = [leiden_to_celltypes[v] for v in adata.obs['leiden_scVI'].values]"
   ]
  },
  {
   "cell_type": "markdown",
   "id": "b0c23da1",
   "metadata": {},
   "source": [
    "名前がついたLeidenクラスタを可視化してみる。"
   ]
  },
  {
   "cell_type": "code",
   "execution_count": null,
   "id": "098b9a79",
   "metadata": {},
   "outputs": [],
   "source": [
    "with plt.rc_context({\"figure.figsize\": (9, 9)}):\n",
    "    sc.pl.umap(adata,\n",
    "        color='leiden_celltypes',\n",
    "        legend_fontsize=10,\n",
    "        frameon=False, alpha=0.5,\n",
    "        legend_loc='on data')"
   ]
  },
  {
   "cell_type": "code",
   "execution_count": null,
   "id": "358a38d2-1faf-42dc-8fc2-91850bb0423e",
   "metadata": {},
   "outputs": [],
   "source": [
    "adata.write(filename='./data/retinal_2.h5ad')"
   ]
  },
  {
   "cell_type": "markdown",
   "id": "9f215504-497d-4745-98e9-520aea5f9be8",
   "metadata": {},
   "source": [
    "## RNA速度の推定"
   ]
  },
  {
   "cell_type": "markdown",
   "id": "34991b4a",
   "metadata": {},
   "source": [
    "### 事前準備（velocyto）"
   ]
  },
  {
   "cell_type": "markdown",
   "id": "b5e15ef4",
   "metadata": {},
   "source": [
    "scVeloを使うためには、spliced/unsplicedの二種類のカウントデータが必要となる。\n",
    "\n",
    "なので事前に [velocyto](http://velocyto.org/velocyto.py/index.html) を使って、Cell Rangerが生成したゲノムマッピングのBAMファイルから、spliced/unsplicedのカウントデータを作っておく。\n",
    "\n",
    "バッチごとに実行して、それぞれのバッチに属する細胞のspliced/unsplicedカウントを格納した [loom](https://linnarssonlab.org/loompy/index.html) データを作る。\n",
    "\n",
    "計算に時間がかかるので、講習ではすでにvelocyto計算済みの結果を配布している。\n",
    "\n",
    "velocytoは以下のコマンドで実行する。\n",
    "\n",
    "```bash\n",
    "velocyto run10x \\\n",
    "    -m /path/to/Cell_Ranger_References/mm10_rmsk.gtf \\\n",
    "    /path/to/RetinalBatchE2 \\\n",
    "    /path/to/Cell_Ranger_References/refdata-gex-mm10-2020-A/genes/genes.gtf\n",
    "\n",
    "velocyto run10x \\\n",
    "    -m /path/to/Cell_Ranger_References/mm10_rmsk.gtf \\\n",
    "    /path/to/RetinalBatchF2 \\\n",
    "    /path/to/Cell_Ranger_References/refdata-gex-mm10-2020-A/genes/genes.gtf\n",
    "```"
   ]
  },
  {
   "cell_type": "markdown",
   "id": "c0ad5a49",
   "metadata": {},
   "source": [
    "velocytoでバッチごとに推定したloomファイルを統合して書き出す。ここの統合処理も時間かかるので、統合後のデータを配布。"
   ]
  },
  {
   "cell_type": "code",
   "execution_count": null,
   "id": "75630e12-4e72-4bf6-b5b3-1742ffb0b8a3",
   "metadata": {},
   "outputs": [],
   "source": [
    "#import loompy\n",
    "#loompy.combine(['./data/RetinalBatchE2.loom',\n",
    "#                './data/RetinalBatchF2.loom'],\n",
    "#               output_file='./data/retinal_velo.loom')"
   ]
  },
  {
   "cell_type": "code",
   "execution_count": null,
   "id": "fc883a70-b9a7-4997-81f5-5d24700968e4",
   "metadata": {},
   "outputs": [],
   "source": [
    "import scvelo as scv\n",
    "scv.set_figure_params()"
   ]
  },
  {
   "cell_type": "markdown",
   "id": "a27333eb",
   "metadata": {},
   "source": [
    "spliced/unsplicedのカウントデータを遺伝子発現テーブルと統合する。細胞のバーコードで紐づける。"
   ]
  },
  {
   "cell_type": "code",
   "execution_count": null,
   "id": "66dadfd3-6f67-489e-8b2d-dca297db31cb",
   "metadata": {},
   "outputs": [],
   "source": [
    "ldata = sc.read_loom('./data/retinal_velo.loom')\n",
    "adata = scv.utils.merge(adata, ldata)"
   ]
  },
  {
   "cell_type": "code",
   "execution_count": null,
   "id": "49927018-94a8-4655-9844-06694b903303",
   "metadata": {
    "scrolled": true
   },
   "outputs": [],
   "source": [
    "# ↑の読み込みでエラーが出るなら、loompyの先月のアップデートで修正されたバグに引っかかってる可能性が高い\n",
    "# その場合は以下のコマンドで最新版を入れる\n",
    "!pip uninstall -y loompy\n",
    "!pip install pygpcca\n",
    "!pip install --force-reinstall git+https://github.com/linnarsson-lab/loompy.git@3.0.8"
   ]
  },
  {
   "cell_type": "markdown",
   "id": "4b2d8547-3a1d-455e-a17f-7e2fcd44da88",
   "metadata": {},
   "source": [
    "***インストールを実行した場合ここで一度、カーネルの再起動を実行する***\n",
    "\n",
    "上のメニューから Kernel → Restart Kernel"
   ]
  },
  {
   "cell_type": "code",
   "execution_count": null,
   "id": "daaf3df9-d059-449a-a870-2a9418e68f45",
   "metadata": {},
   "outputs": [],
   "source": [
    "import scanpy as sc\n",
    "import scvelo as scv\n",
    "scv.set_figure_params()\n",
    "adata = sc.read_h5ad('./data/retinal_2.h5ad')\n",
    "\n",
    "ldata = sc.read_loom('./data/retinal_velo.loom')\n",
    "adata = scv.utils.merge(adata, ldata)"
   ]
  },
  {
   "cell_type": "markdown",
   "id": "faaf5e08",
   "metadata": {},
   "source": [
    "scVeloの関数で、遺伝子ごとのspliced/unsplicedカウントの比率を表示できる。実験プラットフォームにもよるが、だいたいunsplicedが25%程度らしい。クラスタごとにも表示。極端にunsplicedがとれてないクラスタがあるかどうかチェックする。"
   ]
  },
  {
   "cell_type": "code",
   "execution_count": null,
   "id": "c482c9a7-df46-4e43-9335-3fa631280e5d",
   "metadata": {},
   "outputs": [],
   "source": [
    "scv.pl.proportions(adata, groupby='leiden_celltypes')"
   ]
  },
  {
   "cell_type": "markdown",
   "id": "75024992",
   "metadata": {},
   "source": [
    "速度計算を実行する。近傍グラフの構成から。"
   ]
  },
  {
   "cell_type": "code",
   "execution_count": null,
   "id": "75e548fb-c60a-4318-8a93-4ecc83f8c80d",
   "metadata": {},
   "outputs": [],
   "source": [
    "# scVI補完の潜在空間上で近傍グラフ構成、一次・二次モーメント計算\n",
    "scv.pp.moments(adata, use_rep='X_scVI')"
   ]
  },
  {
   "cell_type": "markdown",
   "id": "81588c37",
   "metadata": {},
   "source": [
    "Splicing kineticsモデルのパラメータ推論。\n",
    "\n",
    "\"Steady-state\"モデル。"
   ]
  },
  {
   "cell_type": "code",
   "execution_count": null,
   "id": "0e7e7154-75e2-4384-8cb3-103b83cadcd2",
   "metadata": {},
   "outputs": [],
   "source": [
    "scv.tl.velocity(adata, mode='deterministic')"
   ]
  },
  {
   "cell_type": "markdown",
   "id": "6b40f42c",
   "metadata": {},
   "source": [
    "速度ベクトルを元に、細胞から細胞への遷移確率を計算。"
   ]
  },
  {
   "cell_type": "code",
   "execution_count": null,
   "id": "5d9eef85-15fe-4a4c-95c6-0a7cc8a3473b",
   "metadata": {},
   "outputs": [],
   "source": [
    "scv.tl.velocity_graph(adata)"
   ]
  },
  {
   "cell_type": "markdown",
   "id": "6a50d392",
   "metadata": {},
   "source": [
    "速度ベクトルから構成した「流れ」をプロットしてみる。"
   ]
  },
  {
   "cell_type": "code",
   "execution_count": null,
   "id": "768270bf-406f-46b6-b575-acaa98b4c298",
   "metadata": {},
   "outputs": [],
   "source": [
    "scv.pl.velocity_embedding_stream(adata, \n",
    "        basis='X_umap', color='leiden_celltypes',\n",
    "        legend_fontsize=9,\n",
    "        smooth=0.8, min_mass=4)"
   ]
  },
  {
   "cell_type": "markdown",
   "id": "3af25b5b",
   "metadata": {},
   "source": [
    "Progenitorの集団からはじまって、わかりやすい三分岐。\n",
    "\n",
    "\"EM\"モデル。"
   ]
  },
  {
   "cell_type": "code",
   "execution_count": null,
   "id": "2b60c7df",
   "metadata": {},
   "outputs": [],
   "source": [
    "scv.tl.recover_dynamics(adata, n_jobs=8)\n",
    "scv.tl.recover_latent_time(\n",
    "    adata,\n",
    "    root_key='initial_states_probs', \n",
    "    end_key='terminal_states_probs')"
   ]
  },
  {
   "cell_type": "markdown",
   "id": "3bb0c20c",
   "metadata": {},
   "source": [
    "「膨らみ方」（splicing kinetics）は遺伝子ごとに異なる。scVeloのscatter関数では遺伝子ごとに、具体的にどのようなダイナミクスが推定されたのかプロットしてくれる。それぞれの遺伝子がそれぞれ異なるタイミング、異なるパターンで、induction => steady-state => repressionのパスを巡っている。"
   ]
  },
  {
   "cell_type": "code",
   "execution_count": null,
   "id": "ceabd1d2-b17a-41db-a44f-bbaff672c0ce",
   "metadata": {},
   "outputs": [],
   "source": [
    "top_genes = adata.var[\"fit_likelihood\"].sort_values(ascending=False).index\n",
    "scv.pl.scatter(adata, basis=top_genes[:5], color=\"leiden_celltypes\", frameon=False)"
   ]
  },
  {
   "cell_type": "code",
   "execution_count": null,
   "id": "9f015ea2-b5d4-46ba-b7ef-1a365ba9fc6d",
   "metadata": {},
   "outputs": [],
   "source": [
    "scv.tl.velocity(adata, mode=\"dynamical\")\n",
    "scv.tl.velocity_graph(adata, n_jobs=8)"
   ]
  },
  {
   "cell_type": "code",
   "execution_count": null,
   "id": "4fe9c287-dcc9-42f9-baf7-d16824b42e97",
   "metadata": {},
   "outputs": [],
   "source": [
    "scv.pl.velocity_embedding_stream(adata, \n",
    "        basis='X_umap', color='leiden_celltypes',\n",
    "        legend_fontsize=9,\n",
    "        smooth=0.8, min_mass=4)"
   ]
  },
  {
   "cell_type": "markdown",
   "id": "14f9c1f8-2135-4e92-8967-44b5720c3927",
   "metadata": {},
   "source": [
    "RNA速度を計算することによって、トランスクリプトームパターンの幾何学的な近接性だけで推定された 'Pseudo time' ではなく、速度情報をちゃんと織り込んだ細胞の 'Latent time' を計算できる。"
   ]
  },
  {
   "cell_type": "code",
   "execution_count": null,
   "id": "108620bd",
   "metadata": {},
   "outputs": [],
   "source": [
    "scv.pl.scatter(\n",
    "    adata,\n",
    "    color=['leiden_celltypes', 'latent_time'],\n",
    "    fontsize=16,\n",
    "    cmap='viridis',\n",
    "    perc=[2, 98],\n",
    "    colorbar=True,\n",
    "    rescale_color=[0, 1],\n",
    "    title=['clusters', 'latent time'])"
   ]
  },
  {
   "cell_type": "markdown",
   "id": "0c128d58",
   "metadata": {},
   "source": [
    "Progenitorの部分がごちゃごちゃしてわかりにくいので、取り出して個別に解析してみる。\n",
    "\n",
    "どうもグルグルとまわってるみたいなので、細胞周期のマーカー遺伝子発現をチェック。"
   ]
  },
  {
   "cell_type": "code",
   "execution_count": null,
   "id": "38c21932-ef54-4cc7-956b-bcf08c96ad5d",
   "metadata": {},
   "outputs": [],
   "source": [
    "prog = adata[adata.obs['leiden_celltypes'].isin(['Early-RPCs-1', 'Early-RPCs-2', 'Late-RPCs-1', 'Late-RPCs-2'])].copy()"
   ]
  },
  {
   "cell_type": "code",
   "execution_count": null,
   "id": "84e7c605-ff91-410c-8a94-61e93b6c4139",
   "metadata": {},
   "outputs": [],
   "source": [
    "sc.pp.neighbors(prog, use_rep=\"X_scVI\", n_neighbors=3)\n",
    "sc.tl.umap(prog, min_dist=1.0)\n",
    "\n",
    "scv.pl.umap(prog,\n",
    "            color=['leiden_celltypes'],\n",
    "            frameon=False)"
   ]
  },
  {
   "cell_type": "code",
   "execution_count": null,
   "id": "9ff01d53-cd18-454e-aa2a-6282ec31bdcb",
   "metadata": {},
   "outputs": [],
   "source": [
    "sc.pl.umap(prog, \n",
    "           ncols=2,\n",
    "           color=['Mcm6', 'Esco2', 'Top2a', 'Aurka', 'Cenpa'],\n",
    "           cmap='viridis',\n",
    "           frameon=False)"
   ]
  },
  {
   "cell_type": "markdown",
   "id": "2591a6cb",
   "metadata": {},
   "source": [
    "というわけで、このグルグルは細胞周期を反映しているのだった。\n",
    "\n",
    "この中だけで速度を描くとよりわかりやすい。"
   ]
  },
  {
   "cell_type": "code",
   "execution_count": null,
   "id": "95bbcf3f-9356-417e-8187-a9cdc3899809",
   "metadata": {},
   "outputs": [],
   "source": [
    "scv.pp.moments(prog, use_rep='X_scVI')\n",
    "scv.tl.recover_dynamics(prog, n_jobs=8)\n",
    "scv.tl.velocity(prog, mode=\"dynamical\")\n",
    "scv.tl.velocity_graph(prog)\n",
    "scv.pl.velocity_embedding_stream(prog, \n",
    "    basis='X_umap', color='leiden_celltypes',\n",
    "    smooth=0.8, min_mass=4)"
   ]
  },
  {
   "cell_type": "markdown",
   "id": "8e80a8de",
   "metadata": {},
   "source": [
    "細かく見ると印象が違ってくることもあるので、流れの全体像として粗視化されたパターンだけでなく、それぞれの速度をつぶさに見ていくことも大事。"
   ]
  },
  {
   "cell_type": "code",
   "execution_count": null,
   "id": "11500da1",
   "metadata": {},
   "outputs": [],
   "source": [
    "scv.pl.velocity_embedding(adata, figsize=(9, 9),\n",
    "        basis='X_umap', color='leiden_celltypes',\n",
    "        scale=0.5)"
   ]
  },
  {
   "cell_type": "markdown",
   "id": "842302b4-8194-4faa-a03e-5b482fe743e2",
   "metadata": {},
   "source": [
    "## CellRankによる「軌道」上の遺伝子発現ダイナミクス"
   ]
  },
  {
   "cell_type": "markdown",
   "id": "a7c8a8ca-db06-4408-8222-7434e141263c",
   "metadata": {},
   "source": [
    "単に幾何学的な軌道（高次元空間における枝上の構造）を特定して情報を圧縮するのではなく、RNA速度情報を利用してそれぞれの細胞ごとに「細胞運命」を確率的に推定するフレームワーク。\n",
    "\n",
    "CellRank:\n",
    "    Lange, M., Bergen, V., Klein, M. et al. CellRank for directed single-cell fate mapping. Nat Methods 19, 159–170 (2022). https://doi.org/10.1038/s41592-021-01346-6\n",
    "\n",
    "CellRank2:\n",
    "    Weiler, P., Lange, M., Klein, M. et al. CellRank 2: unified fate mapping in multiview single-cell data. Nat Methods 21, 1196–1205 (2024). https://doi.org/10.1038/s41592-024-02303-9\n",
    "\n",
    "\n",
    "最新版リリースのCellRankでは、内部的に呼び出しているPyGAMの仕様により、Scipy<1.14にバージョンを落とさないと使えない。\n",
    "CellRankのためだけにScipyのバージョン落としたくないので、かなり強引な解決方法だがここではScipyのプロパティ自体を書き換えるモンキーパッチ（実行時に既存のクラスや関数の振る舞いを変更する手法）をあてる。非推奨。現実的には、CellRankがScipyの特定バージョンに依存している以上、CellRankだけ切り出して隔離したPython環境を作った方がいい。"
   ]
  },
  {
   "cell_type": "code",
   "execution_count": null,
   "id": "9f06cac4-ef15-48f6-8f73-eecc249f311f",
   "metadata": {},
   "outputs": [],
   "source": [
    "# 講習のため。非推奨。\n",
    "import scipy.sparse\n",
    "def to_array(self):\n",
    "    return self.toarray()\n",
    "scipy.sparse.spmatrix.A = property(to_array)\n",
    "import pygam"
   ]
  },
  {
   "cell_type": "code",
   "execution_count": null,
   "id": "6304830d-d935-4b6d-a93a-8d6037cd5a6d",
   "metadata": {},
   "outputs": [],
   "source": [
    "sc.pl.umap(adata, color=['leiden_celltypes'], frameon=False)"
   ]
  },
  {
   "cell_type": "code",
   "execution_count": null,
   "id": "8e71fcc1-353b-497a-a81a-b8a206ff5328",
   "metadata": {},
   "outputs": [],
   "source": [
    "import cellrank as cr\n",
    "cr.settings.verbosity = 2"
   ]
  },
  {
   "cell_type": "markdown",
   "id": "c78ae8a2-bcac-4f49-bbad-068d2cef79a5",
   "metadata": {},
   "source": [
    "確率推論の前提となる細胞間の空間的・時間的前後関係を持つ情報（カーネル）を設定。\n",
    "\n",
    "カーネルはいくつかの選択肢がある。RNA速度のほか、幾何学的に推定したPseudotime、実験的に測定した「実時間」でもオーケー。それぞれに対応したカーネルが用意されているので、適切なものを選択する。"
   ]
  },
  {
   "cell_type": "code",
   "execution_count": null,
   "id": "80398209-34d3-4473-8a53-ba091e228dfc",
   "metadata": {},
   "outputs": [],
   "source": [
    "from cellrank.kernels import VelocityKernel\n",
    "\n",
    "# scVeloで推定した「時間」が latent_time のカラム名で保存されているので、それを指定する\n",
    "vk = VelocityKernel(adata, time_key='latent_time')"
   ]
  },
  {
   "cell_type": "markdown",
   "id": "c56f383c-17aa-4930-b824-d0a51184fa98",
   "metadata": {},
   "source": [
    "細胞間の遷移行列を推定。"
   ]
  },
  {
   "cell_type": "code",
   "execution_count": null,
   "id": "e6d553f4-5d65-4cbf-8829-f8eeeb84d2a4",
   "metadata": {},
   "outputs": [],
   "source": [
    "vk.compute_transition_matrix()"
   ]
  },
  {
   "cell_type": "markdown",
   "id": "059d0869-3797-4299-a592-80ccc0546776",
   "metadata": {},
   "source": [
    "ひとつひとつの細胞ごとの遷移だと解釈が難しい。そこで、GPCCA（Generalized Perron Cluster Cluster Analysis ）という手法で、遷移行列から「マクロ状態」（初期集団、中間集団、終了集団）のパターンに集約する。"
   ]
  },
  {
   "cell_type": "code",
   "execution_count": null,
   "id": "ba2b5459-4231-47a2-ae4c-d4c2697e53e6",
   "metadata": {},
   "outputs": [],
   "source": [
    "from cellrank.estimators import GPCCA\n",
    "\n",
    "g = GPCCA(vk)\n",
    "print(g)"
   ]
  },
  {
   "cell_type": "code",
   "execution_count": null,
   "id": "15c2d824-7d6c-48cc-bc0e-c1a5c2f7142f",
   "metadata": {},
   "outputs": [],
   "source": [
    "g.fit(n_states=6, cluster_key=\"leiden_celltypes\")\n",
    "g.plot_macrostates(which=\"all\")"
   ]
  },
  {
   "cell_type": "markdown",
   "id": "c48a1409-d713-4dc8-acd7-81333c110165",
   "metadata": {},
   "source": [
    "「終了状態」の推定。"
   ]
  },
  {
   "cell_type": "code",
   "execution_count": null,
   "id": "9ddabaab-1d27-4e70-99c5-079ab87f7c09",
   "metadata": {},
   "outputs": [],
   "source": [
    "g.predict_terminal_states(method=\"top_n\", n_states=5, allow_overlap=True)\n",
    "g.plot_macrostates(which=\"terminal\")"
   ]
  },
  {
   "cell_type": "markdown",
   "id": "6e4a8428-1a45-4138-b9da-1031a65d6051",
   "metadata": {},
   "source": [
    "「運命確率」の計算。色の濃い細胞が、対応する「終了状態」に到達しやすい。"
   ]
  },
  {
   "cell_type": "code",
   "execution_count": null,
   "id": "5a583b6e-7c7e-4c52-a1cd-b44c0326a5fc",
   "metadata": {},
   "outputs": [],
   "source": [
    "g.compute_fate_probabilities()\n",
    "g.plot_fate_probabilities(legend_loc=\"right\")"
   ]
  },
  {
   "cell_type": "markdown",
   "id": "31f9f962-28fc-4eaf-8c14-7d8dfc3eb366",
   "metadata": {},
   "source": [
    "教科書的には、次のような転写因子などが3方向の分化に強く影響すると言われている。これらの遺伝子検出をCellRankで再現できるか試してみる。"
   ]
  },
  {
   "cell_type": "code",
   "execution_count": null,
   "id": "499cc8f7-fd4b-48d8-bc3b-53fd13a83c24",
   "metadata": {},
   "outputs": [],
   "source": [
    "# RGCへの分化\n",
    "sc.pl.umap(adata,\n",
    "           ncols=3,\n",
    "           color=['Atoh7', 'Pou4f2', 'Isl1'],\n",
    "           cmap='viridis', s=18,\n",
    "           frameon=False)"
   ]
  },
  {
   "cell_type": "code",
   "execution_count": null,
   "id": "f2bfda4a-17ac-41f1-a149-cc2edffbbd45",
   "metadata": {},
   "outputs": [],
   "source": [
    "# 錐体細胞への分化\n",
    "sc.pl.umap(adata,\n",
    "           ncols=3,\n",
    "           color=['Otx2', 'Crx', 'Thrb'],\n",
    "           cmap='viridis', s=18,\n",
    "           frameon=False)"
   ]
  },
  {
   "cell_type": "code",
   "execution_count": null,
   "id": "65251537-eadc-48c7-a3e6-439bb469f2ce",
   "metadata": {},
   "outputs": [],
   "source": [
    "# アマクリン細胞・水平細胞への分化\n",
    "sc.pl.umap(adata,\n",
    "           ncols=3,\n",
    "           color=['Foxn4', 'Ptf1a'],\n",
    "           cmap='viridis', s=18,\n",
    "           frameon=False)"
   ]
  },
  {
   "cell_type": "markdown",
   "id": "bd9fd5d7-8f04-457d-a352-29af4ae0341a",
   "metadata": {},
   "source": [
    "### RGCへの分化"
   ]
  },
  {
   "cell_type": "markdown",
   "id": "2d09f26c-bef8-4666-b52c-4cc0a5346966",
   "metadata": {},
   "source": [
    "経路と遺伝子発現の「相関」の計算について、特定のクラスタ（三分岐した他の経路など）の細胞が邪魔になる場合は、clustersオプションで計算に使うクラスタを限定できる。（初期状態から終了状態の経路上のクラスタのみ使う、など）"
   ]
  },
  {
   "cell_type": "code",
   "execution_count": null,
   "id": "3fe0f849-7dd7-4a10-872a-7ac3ad1d8305",
   "metadata": {},
   "outputs": [],
   "source": [
    "RGC_df = g.compute_lineage_drivers(\n",
    "    lineages=['RGCs-4'],\n",
    "    cluster_key='leiden_celltypes',\n",
    ")\n",
    "RGC_df = RGC_df.sort_values(by=['RGCs-4_corr'], ascending=False)\n",
    "RGC_df.head(10)"
   ]
  },
  {
   "cell_type": "code",
   "execution_count": null,
   "id": "0916c88a-03b8-47dc-b6d4-f647a768cfc7",
   "metadata": {},
   "outputs": [],
   "source": [
    "driver_genes = RGC_df.index[:8]\n",
    "\n",
    "sc.pl.umap(\n",
    "    adata,\n",
    "    color=driver_genes,\n",
    "    cmap='viridis', ncols=4,\n",
    "    frameon=False)"
   ]
  },
  {
   "cell_type": "markdown",
   "id": "8795e560-066d-47c2-b9f3-acc4186435da",
   "metadata": {},
   "source": [
    "経路上の遺伝子発現ダイナミクスのモデル化。ここでは一般化加法モデル（Generalized Additive Models）を利用。"
   ]
  },
  {
   "cell_type": "code",
   "execution_count": null,
   "id": "573bccbf-de64-410c-94f3-a0346a4f1b97",
   "metadata": {},
   "outputs": [],
   "source": [
    "gam_model = cr.models.GAM(adata, n_knots=6)"
   ]
  },
  {
   "cell_type": "markdown",
   "id": "ad49cee5-3f90-4a93-82c2-0793d700ca10",
   "metadata": {},
   "source": [
    "ダイナミクスの計算に使う発現量の数値、時間の数値、それぞれに対応するカラム名をちゃんと指定する（ここではそれぞれ、scvi_normalized, latent_time）"
   ]
  },
  {
   "cell_type": "code",
   "execution_count": null,
   "id": "e44711ae-1a95-41cb-93c8-050fe423986c",
   "metadata": {},
   "outputs": [],
   "source": [
    "cr.pl.heatmap(\n",
    "    adata,\n",
    "    model=gam_model,\n",
    "    lineages='RGCs-4',\n",
    "    cluster_key='leiden_celltypes',\n",
    "    show_fate_probabilities=True,\n",
    "    data_key='scvi_normalized',\n",
    "    genes=RGC_df.head(60).index,\n",
    "    time_key='latent_time',\n",
    "    figsize=(12, 10),\n",
    "    show_all_genes=True,\n",
    "    weight_threshold=(1e-3, 1e-3),\n",
    ")"
   ]
  },
  {
   "cell_type": "markdown",
   "id": "81e16011-14c1-4cad-8bea-17ec8c402aca",
   "metadata": {},
   "source": [
    "### アマクリン細胞・水平細胞への分化"
   ]
  },
  {
   "cell_type": "code",
   "execution_count": null,
   "id": "51ff4fe8-c76a-418f-a584-520955cf82bb",
   "metadata": {},
   "outputs": [],
   "source": [
    "HR_df = g.compute_lineage_drivers(\n",
    "    lineages=['Horizontal'],\n",
    "    cluster_key='leiden_celltypes'\n",
    ")\n",
    "HR_df = HR_df.sort_values(by=['Horizontal_corr'], ascending=False)\n",
    "\n",
    "driver_genes = HR_df.index[:8]\n",
    "sc.pl.umap(\n",
    "    adata,\n",
    "    color=driver_genes,\n",
    "    cmap='viridis', ncols=4,\n",
    "    frameon=False)"
   ]
  },
  {
   "cell_type": "code",
   "execution_count": null,
   "id": "02691005-599b-4d42-91ec-47af9687a768",
   "metadata": {},
   "outputs": [],
   "source": [
    "cr.pl.heatmap(\n",
    "    adata,\n",
    "    model=gam_model,\n",
    "    lineages='Horizontal',\n",
    "    cluster_key='leiden_celltypes',\n",
    "    show_fate_probabilities=True,\n",
    "    data_key='scvi_normalized',\n",
    "    genes=HR_df.head(60).index,\n",
    "    time_key='latent_time',\n",
    "    figsize=(12, 10),\n",
    "    show_all_genes=True,\n",
    "    weight_threshold=(1e-3, 1e-3),\n",
    ")"
   ]
  },
  {
   "cell_type": "markdown",
   "id": "ee72de27-0b24-47a7-8393-f6c79c9a9c71",
   "metadata": {},
   "source": [
    "### 錐体細胞への分化"
   ]
  },
  {
   "cell_type": "code",
   "execution_count": null,
   "id": "dab92c96-57a7-4686-aa44-a2e6c1d99413",
   "metadata": {},
   "outputs": [],
   "source": [
    "CP_df = g.compute_lineage_drivers(\n",
    "    lineages=['Cones'],\n",
    "    cluster_key='leiden_celltypes'\n",
    ")\n",
    "CP_df = CP_df.sort_values(by=['Cones_corr'], ascending=False)\n",
    "\n",
    "driver_genes = CP_df.index[:8]\n",
    "sc.pl.umap(\n",
    "    adata,\n",
    "    color=driver_genes,\n",
    "    cmap='viridis', ncols=4,\n",
    "    frameon=False)"
   ]
  },
  {
   "cell_type": "code",
   "execution_count": null,
   "id": "cddfa49b-1927-44ec-8457-d638a0b662bb",
   "metadata": {},
   "outputs": [],
   "source": [
    "cr.pl.heatmap(\n",
    "    adata,\n",
    "    model=gam_model,\n",
    "    lineages='Cones',\n",
    "    cluster_key='leiden_celltypes',\n",
    "    show_fate_probabilities=True,\n",
    "    data_key='scvi_normalized',\n",
    "    genes=CP_df.head(60).index,\n",
    "    time_key='latent_time',\n",
    "    figsize=(12, 10),\n",
    "    show_all_genes=True,\n",
    "    weight_threshold=(1e-3, 1e-3),\n",
    ")"
   ]
  },
  {
   "cell_type": "markdown",
   "id": "3492e44d-fe12-4bfa-8ef4-b9b512bba8ec",
   "metadata": {},
   "source": [
    "###　経路ごとの遺伝子発現ダイナミクス"
   ]
  },
  {
   "cell_type": "code",
   "execution_count": null,
   "id": "b8963eb4-6cde-4ca4-ad27-8d64c3d3b996",
   "metadata": {},
   "outputs": [],
   "source": [
    "cr.pl.gene_trends(\n",
    "    adata,\n",
    "    model=gam_model,\n",
    "    data_key='scvi_normalized',\n",
    "    genes=['Atoh7', 'Pou4f2', 'Isl1',\n",
    "           'Otx2', 'Crx', 'Thrb',\n",
    "           'Foxn4', 'Ptf1a'],\n",
    "    same_plot=True,\n",
    "    ncols=3,\n",
    "    time_key='latent_time',\n",
    "    hide_cells=True,\n",
    "    weight_threshold=(1e-3, 1e-3),\n",
    ")"
   ]
  },
  {
   "cell_type": "code",
   "execution_count": null,
   "id": "4c28eec3-09ef-45f3-85bb-f85933267108",
   "metadata": {},
   "outputs": [],
   "source": [
    "adata.write(filename='./data/retinal_3.h5ad')"
   ]
  },
  {
   "cell_type": "code",
   "execution_count": null,
   "id": "0d534ff6-ff18-47fc-9165-bcdc3ce50bac",
   "metadata": {},
   "outputs": [],
   "source": []
  },
  {
   "cell_type": "code",
   "execution_count": null,
   "id": "114f3876-0273-4288-9e26-315cda187e5a",
   "metadata": {},
   "outputs": [],
   "source": []
  },
  {
   "cell_type": "code",
   "execution_count": null,
   "id": "ac52ccab-ccba-45ed-8f39-82c1e7683026",
   "metadata": {},
   "outputs": [],
   "source": []
  }
 ],
 "metadata": {
  "kernelspec": {
   "display_name": "Python 3 (ipykernel)",
   "language": "python",
   "name": "python3"
  },
  "language_info": {
   "codemirror_mode": {
    "name": "ipython",
    "version": 3
   },
   "file_extension": ".py",
   "mimetype": "text/x-python",
   "name": "python",
   "nbconvert_exporter": "python",
   "pygments_lexer": "ipython3",
   "version": "3.11.8"
  }
 },
 "nbformat": 4,
 "nbformat_minor": 5
}
